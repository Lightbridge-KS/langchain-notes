{
 "cells": [
  {
   "cell_type": "markdown",
   "metadata": {},
   "source": [
    "# How to Load CSV\n",
    "\n",
    "<https://python.langchain.com/v0.2/docs/how_to/document_loader_csv>"
   ]
  },
  {
   "cell_type": "code",
   "execution_count": 31,
   "metadata": {},
   "outputs": [],
   "source": [
    "from langchain_openai import ChatOpenAI\n",
    "from langchain_community.document_loaders.csv_loader import CSVLoader\n",
    "import pandas as pd\n",
    "\n",
    "llm = ChatOpenAI(model=\"gpt-4o-mini\")"
   ]
  },
  {
   "cell_type": "markdown",
   "metadata": {},
   "source": [
    "## Approach No RAG"
   ]
  },
  {
   "cell_type": "code",
   "execution_count": 34,
   "metadata": {},
   "outputs": [
    {
     "data": {
      "text/html": [
       "<div>\n",
       "<style scoped>\n",
       "    .dataframe tbody tr th:only-of-type {\n",
       "        vertical-align: middle;\n",
       "    }\n",
       "\n",
       "    .dataframe tbody tr th {\n",
       "        vertical-align: top;\n",
       "    }\n",
       "\n",
       "    .dataframe thead th {\n",
       "        text-align: right;\n",
       "    }\n",
       "</style>\n",
       "<table border=\"1\" class=\"dataframe\">\n",
       "  <thead>\n",
       "    <tr style=\"text-align: right;\">\n",
       "      <th></th>\n",
       "      <th>Description</th>\n",
       "      <th>Telephone</th>\n",
       "    </tr>\n",
       "  </thead>\n",
       "  <tbody>\n",
       "    <tr>\n",
       "      <th>0</th>\n",
       "      <td>Counter US at ER</td>\n",
       "      <td>0338</td>\n",
       "    </tr>\n",
       "    <tr>\n",
       "      <th>1</th>\n",
       "      <td>Tech CT at ER</td>\n",
       "      <td>0350, 47115</td>\n",
       "    </tr>\n",
       "    <tr>\n",
       "      <th>2</th>\n",
       "      <td>Radiology Interpretation Room</td>\n",
       "      <td>0346, 47968</td>\n",
       "    </tr>\n",
       "    <tr>\n",
       "      <th>3</th>\n",
       "      <td>Ask Team ER</td>\n",
       "      <td>1182</td>\n",
       "    </tr>\n",
       "    <tr>\n",
       "      <th>4</th>\n",
       "      <td>ER Team 1</td>\n",
       "      <td>0301</td>\n",
       "    </tr>\n",
       "  </tbody>\n",
       "</table>\n",
       "</div>"
      ],
      "text/plain": [
       "                     Description    Telephone\n",
       "0               Counter US at ER         0338\n",
       "1                  Tech CT at ER  0350, 47115\n",
       "2  Radiology Interpretation Room  0346, 47968\n",
       "3                    Ask Team ER         1182\n",
       "4                      ER Team 1         0301"
      ]
     },
     "execution_count": 34,
     "metadata": {},
     "output_type": "execute_result"
    }
   ],
   "source": [
    "telephone_df = pd.read_csv(\"data/TelephoneDepartment.csv\")\n",
    "telephone_df.head()"
   ]
  },
  {
   "cell_type": "code",
   "execution_count": 42,
   "metadata": {},
   "outputs": [
    {
     "name": "stdout",
     "output_type": "stream",
     "text": [
      "|    | Description                   | Telephone   |\n",
      "|---:|:------------------------------|:------------|\n",
      "|  0 | Counter US at ER              | 0338        |\n",
      "|  1 | Tech CT at ER                 | 0350, 47115 |\n",
      "|  2 | Radiology Interpretation Room | 0346, 47968 |\n",
      "|  3 | Ask Team ER                   | 1182        |\n",
      "|  4 | ER Team 1                     | 0301        |\n",
      "|  5 | ER Team 2                     | 0303        |\n",
      "|  6 | ER Team 3                     | 0334        |\n",
      "|  7 | Resusitation 1                | 1107        |\n",
      "|  8 | Resusitation 2                | 2282        |\n"
     ]
    }
   ],
   "source": [
    "print(telephone_df.to_markdown())"
   ]
  },
  {
   "cell_type": "code",
   "execution_count": 50,
   "metadata": {},
   "outputs": [
    {
     "data": {
      "text/plain": [
       "[SystemMessage(content=\"You are an assistant for searching hospital telephone number. Use the following <phone_book> to answer human request. If you don't know the answer, just say that you don't know. Keep the answer concise.\\n<phone_book>\\n|    | Description                   | Telephone   |\\n|---:|:------------------------------|:------------|\\n|  0 | Counter US at ER              | 0338        |\\n|  1 | Tech CT at ER                 | 0350, 47115 |\\n|  2 | Radiology Interpretation Room | 0346, 47968 |\\n|  3 | Ask Team ER                   | 1182        |\\n|  4 | ER Team 1                     | 0301        |\\n|  5 | ER Team 2                     | 0303        |\\n|  6 | ER Team 3                     | 0334        |\\n|  7 | Resusitation 1                | 1107        |\\n|  8 | Resusitation 2                | 2282        |\\n</phone_book>\\n\"),\n",
       " HumanMessage(content='H')]"
      ]
     },
     "execution_count": 50,
     "metadata": {},
     "output_type": "execute_result"
    }
   ],
   "source": [
    "from langchain.chains import create_retrieval_chain\n",
    "from langchain.chains.combine_documents import create_stuff_documents_chain\n",
    "from langchain_core.prompts import ChatPromptTemplate\n",
    "\n",
    "\n",
    "system_prompt = f\"\"\"You are an assistant for searching hospital telephone number. Use the following <phone_book> to answer human request. If you don't know the answer, just say that you don't know. Keep the answer concise.\n",
    "<phone_book>\n",
    "{telephone_df.to_markdown()}\n",
    "</phone_book>\n",
    "\"\"\"\n",
    "\n",
    "prompt = ChatPromptTemplate.from_messages(\n",
    "    [\n",
    "        (\"system\", system_prompt),\n",
    "        (\"human\", \"{input}\"),\n",
    "    ]\n",
    ")\n",
    "\n",
    "prompt.invoke({\"input\": \"H\"}).to_messages()"
   ]
  },
  {
   "cell_type": "code",
   "execution_count": 51,
   "metadata": {},
   "outputs": [],
   "source": [
    "chain = prompt | llm | StrOutputParser()"
   ]
  },
  {
   "cell_type": "code",
   "execution_count": 52,
   "metadata": {},
   "outputs": [
    {
     "data": {
      "text/plain": [
       "'The telephone number for Resuscitation 1 is 1107.'"
      ]
     },
     "execution_count": 52,
     "metadata": {},
     "output_type": "execute_result"
    }
   ],
   "source": [
    "chain.invoke(\"Resus 1\")"
   ]
  },
  {
   "cell_type": "code",
   "execution_count": 55,
   "metadata": {},
   "outputs": [
    {
     "data": {
      "text/plain": [
       "'Resusitation 1: 1107  \\nResusitation 2: 2282'"
      ]
     },
     "execution_count": 55,
     "metadata": {},
     "output_type": "execute_result"
    }
   ],
   "source": [
    "chain.invoke(\"Resus 1, 2\")"
   ]
  },
  {
   "cell_type": "code",
   "execution_count": 57,
   "metadata": {},
   "outputs": [
    {
     "data": {
      "text/plain": [
       "'The telephone number for ER Team 3 is 0334.'"
      ]
     },
     "execution_count": 57,
     "metadata": {},
     "output_type": "execute_result"
    }
   ],
   "source": [
    "chain.invoke(\"ER3\")"
   ]
  },
  {
   "cell_type": "markdown",
   "metadata": {},
   "source": [
    "## Approch with RAG\n"
   ]
  },
  {
   "cell_type": "code",
   "execution_count": 8,
   "metadata": {},
   "outputs": [
    {
     "name": "stdout",
     "output_type": "stream",
     "text": [
      "page_content='Description: Counter US at ER\n",
      "Telephone: 0338' metadata={'source': 'Counter US at ER', 'row': 0}\n",
      "page_content='Description: Tech CT at ER\n",
      "Telephone: 0350, 47115' metadata={'source': 'Tech CT at ER', 'row': 1}\n"
     ]
    }
   ],
   "source": [
    "loader = CSVLoader(file_path=\"data/TelephoneDepartment.csv\", source_column=\"Description\")\n",
    "data = loader.load()\n",
    "\n",
    "for record in data[:2]:\n",
    "    print(record)"
   ]
  },
  {
   "cell_type": "markdown",
   "metadata": {},
   "source": [
    "### Index"
   ]
  },
  {
   "cell_type": "code",
   "execution_count": 10,
   "metadata": {},
   "outputs": [],
   "source": [
    "from langchain_chroma import Chroma\n",
    "from langchain_openai import OpenAIEmbeddings\n",
    "\n",
    "vectorstore = Chroma.from_documents(documents=data, embedding=OpenAIEmbeddings())"
   ]
  },
  {
   "cell_type": "code",
   "execution_count": 15,
   "metadata": {},
   "outputs": [],
   "source": [
    "retriever = vectorstore.as_retriever(search_type=\"similarity\", search_kwargs={\"k\": 3})"
   ]
  },
  {
   "cell_type": "code",
   "execution_count": 29,
   "metadata": {},
   "outputs": [
    {
     "data": {
      "text/plain": [
       "[Document(metadata={'row': 7, 'source': 'Resusitation 1'}, page_content='Description: Resusitation 1\\nTelephone: 1107'),\n",
       " Document(metadata={'row': 8, 'source': 'Resusitation 2'}, page_content='Description: Resusitation 2\\nTelephone: 2282'),\n",
       " Document(metadata={'row': 4, 'source': 'ER Team 1'}, page_content='Description: ER Team 1\\nTelephone: 0301')]"
      ]
     },
     "execution_count": 29,
     "metadata": {},
     "output_type": "execute_result"
    }
   ],
   "source": [
    "retriever.invoke(\"Resus 1\")"
   ]
  },
  {
   "cell_type": "markdown",
   "metadata": {},
   "source": [
    "### Prompt"
   ]
  },
  {
   "cell_type": "code",
   "execution_count": 49,
   "metadata": {},
   "outputs": [],
   "source": [
    "from langchain.chains import create_retrieval_chain\n",
    "from langchain.chains.combine_documents import create_stuff_documents_chain\n",
    "from langchain_core.prompts import ChatPromptTemplate\n",
    "\n",
    "\n",
    "system_prompt = \"\"\"You are an assistant for searching hospital telephone number. Use the following <phone_book> to answer human request. If you don't know the answer, just say that you don't know. Keep the answer concise.\n",
    "<phone_book>\n",
    "{phone_book}\n",
    "</phone_book>\n",
    "\"\"\"\n",
    "\n",
    "prompt = ChatPromptTemplate.from_messages(\n",
    "    [\n",
    "        (\"system\", system_prompt),\n",
    "        (\"human\", \"{input}\"),\n",
    "    ]\n",
    ")\n"
   ]
  },
  {
   "cell_type": "markdown",
   "metadata": {},
   "source": [
    "### Chain 1"
   ]
  },
  {
   "cell_type": "code",
   "execution_count": 26,
   "metadata": {},
   "outputs": [],
   "source": [
    "from langchain_core.output_parsers import StrOutputParser\n",
    "from langchain_core.runnables import RunnablePassthrough\n",
    "\n",
    "rag_chain_1 = (\n",
    "    {\"phone_book\": retriever, \"input\": RunnablePassthrough()}\n",
    "    | prompt\n",
    "    | llm\n",
    "    | StrOutputParser()\n",
    ")"
   ]
  },
  {
   "cell_type": "code",
   "execution_count": 53,
   "metadata": {},
   "outputs": [
    {
     "name": "stdout",
     "output_type": "stream",
     "text": [
      "The telephone number for Resusitation 1 is 1107.\n"
     ]
    }
   ],
   "source": [
    "res1 = rag_chain_1.invoke(\"Resus 1\")\n",
    "print(res1)"
   ]
  },
  {
   "cell_type": "code",
   "execution_count": 56,
   "metadata": {},
   "outputs": [
    {
     "data": {
      "text/plain": [
       "'Resusitation 1: 1107  \\nResusitation 2: 2282'"
      ]
     },
     "execution_count": 56,
     "metadata": {},
     "output_type": "execute_result"
    }
   ],
   "source": [
    "rag_chain_1.invoke(\"Resus 1, 2\")"
   ]
  },
  {
   "cell_type": "code",
   "execution_count": 54,
   "metadata": {},
   "outputs": [
    {
     "data": {
      "text/plain": [
       "'The telephone number for ER Team 3 is 0334.'"
      ]
     },
     "execution_count": 54,
     "metadata": {},
     "output_type": "execute_result"
    }
   ],
   "source": [
    "rag_chain_1.invoke(\"ER3\")"
   ]
  },
  {
   "cell_type": "markdown",
   "metadata": {},
   "source": [
    "## Compare"
   ]
  },
  {
   "cell_type": "code",
   "execution_count": 63,
   "metadata": {},
   "outputs": [
    {
     "name": "stdout",
     "output_type": "stream",
     "text": [
      "Simple\n",
      "CPU times: user 25.8 ms, sys: 4.24 ms, total: 30 ms\n",
      "Wall time: 998 ms\n",
      "\n",
      "RAG\n",
      "CPU times: user 50.3 ms, sys: 5.28 ms, total: 55.5 ms\n",
      "Wall time: 2.15 s\n"
     ]
    },
    {
     "data": {
      "text/plain": [
       "'The telephone number for Resusitation 1 is 1107.'"
      ]
     },
     "execution_count": 63,
     "metadata": {},
     "output_type": "execute_result"
    }
   ],
   "source": [
    "print(\"Simple\")\n",
    "%time chain.invoke(\"Resus 1\")\n",
    "\n",
    "print(\"\\nRAG\")\n",
    "%time rag_chain_1.invoke(\"Resus 1\")"
   ]
  },
  {
   "cell_type": "code",
   "execution_count": 64,
   "metadata": {},
   "outputs": [
    {
     "name": "stdout",
     "output_type": "stream",
     "text": [
      "Simple\n",
      "CPU times: user 24.7 ms, sys: 3.32 ms, total: 28 ms\n",
      "Wall time: 2 s\n",
      "\n",
      "RAG\n",
      "CPU times: user 54 ms, sys: 6.21 ms, total: 60.2 ms\n",
      "Wall time: 1.84 s\n"
     ]
    },
    {
     "data": {
      "text/plain": [
       "'Resusitation 1: 1107  \\nResusitation 2: 2282'"
      ]
     },
     "execution_count": 64,
     "metadata": {},
     "output_type": "execute_result"
    }
   ],
   "source": [
    "print(\"Simple\")\n",
    "%time chain.invoke(\"Resus 1, 2\")\n",
    "\n",
    "print(\"\\nRAG\")\n",
    "%time rag_chain_1.invoke(\"Resus 1, 2\")"
   ]
  }
 ],
 "metadata": {
  "kernelspec": {
   "display_name": "Python 3",
   "language": "python",
   "name": "python3"
  },
  "language_info": {
   "codemirror_mode": {
    "name": "ipython",
    "version": 3
   },
   "file_extension": ".py",
   "mimetype": "text/x-python",
   "name": "python",
   "nbconvert_exporter": "python",
   "pygments_lexer": "ipython3",
   "version": "3.10.10"
  }
 },
 "nbformat": 4,
 "nbformat_minor": 2
}
