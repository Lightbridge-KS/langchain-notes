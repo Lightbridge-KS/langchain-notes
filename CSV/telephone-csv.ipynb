{
 "cells": [
  {
   "cell_type": "markdown",
   "metadata": {},
   "source": [
    "# Telephone CSV 2"
   ]
  },
  {
   "cell_type": "code",
   "execution_count": 5,
   "metadata": {},
   "outputs": [],
   "source": [
    "from langchain_openai import ChatOpenAI\n",
    "from langchain_community.document_loaders.csv_loader import CSVLoader\n",
    "from langchain_core.output_parsers import StrOutputParser\n",
    "import pandas as pd\n",
    "\n",
    "llm = ChatOpenAI(model=\"gpt-4o-mini\")"
   ]
  },
  {
   "cell_type": "code",
   "execution_count": 2,
   "metadata": {},
   "outputs": [
    {
     "data": {
      "text/html": [
       "<div>\n",
       "<style scoped>\n",
       "    .dataframe tbody tr th:only-of-type {\n",
       "        vertical-align: middle;\n",
       "    }\n",
       "\n",
       "    .dataframe tbody tr th {\n",
       "        vertical-align: top;\n",
       "    }\n",
       "\n",
       "    .dataframe thead th {\n",
       "        text-align: right;\n",
       "    }\n",
       "</style>\n",
       "<table border=\"1\" class=\"dataframe\">\n",
       "  <thead>\n",
       "    <tr style=\"text-align: right;\">\n",
       "      <th></th>\n",
       "      <th>Building</th>\n",
       "      <th>CodeName</th>\n",
       "      <th>Description</th>\n",
       "      <th>Telephone</th>\n",
       "    </tr>\n",
       "  </thead>\n",
       "  <tbody>\n",
       "    <tr>\n",
       "      <th>0</th>\n",
       "      <td>NaN</td>\n",
       "      <td>ถามเบอร์</td>\n",
       "      <td>ถามเบอร์โทรศัพท์ใดๆ</td>\n",
       "      <td>1000</td>\n",
       "    </tr>\n",
       "    <tr>\n",
       "      <th>1</th>\n",
       "      <td>ER</td>\n",
       "      <td>USER</td>\n",
       "      <td>Counter US at ER</td>\n",
       "      <td>0338</td>\n",
       "    </tr>\n",
       "    <tr>\n",
       "      <th>2</th>\n",
       "      <td>ER</td>\n",
       "      <td>CTER</td>\n",
       "      <td>Tech CT at ER</td>\n",
       "      <td>0350, 47115</td>\n",
       "    </tr>\n",
       "    <tr>\n",
       "      <th>3</th>\n",
       "      <td>ER</td>\n",
       "      <td>Xray ER</td>\n",
       "      <td>Radiology Interpretation Room</td>\n",
       "      <td>0346, 47968</td>\n",
       "    </tr>\n",
       "    <tr>\n",
       "      <th>4</th>\n",
       "      <td>ER</td>\n",
       "      <td>Team ER</td>\n",
       "      <td>Ask Team ER</td>\n",
       "      <td>1182</td>\n",
       "    </tr>\n",
       "  </tbody>\n",
       "</table>\n",
       "</div>"
      ],
      "text/plain": [
       "  Building  CodeName                    Description    Telephone\n",
       "0      NaN  ถามเบอร์            ถามเบอร์โทรศัพท์ใดๆ         1000\n",
       "1       ER      USER               Counter US at ER         0338\n",
       "2       ER      CTER                  Tech CT at ER  0350, 47115\n",
       "3       ER   Xray ER  Radiology Interpretation Room  0346, 47968\n",
       "4       ER   Team ER                    Ask Team ER         1182"
      ]
     },
     "execution_count": 2,
     "metadata": {},
     "output_type": "execute_result"
    }
   ],
   "source": [
    "telephone2_df = pd.read_csv(\"data/TelephoneDepartment_2.csv\")\n",
    "telephone2_df.head()"
   ]
  },
  {
   "cell_type": "code",
   "execution_count": 9,
   "metadata": {},
   "outputs": [
    {
     "data": {
      "text/plain": [
       "[SystemMessage(content=\"You are an assistant for searching hospital telephone number. Use the following <phone_book> to answer human request. \\n\\n<phone_book>\\n|    | Building   | CodeName         | Description                   | Telephone          |\\n|---:|:-----------|:-----------------|:------------------------------|:-------------------|\\n|  0 | nan        | ถามเบอร์          | ถามเบอร์โทรศัพท์ใดๆ              | 1000               |\\n|  1 | ER         | USER             | Counter US at ER              | 0338               |\\n|  2 | ER         | CTER             | Tech CT at ER                 | 0350, 47115        |\\n|  3 | ER         | Xray ER          | Radiology Interpretation Room | 0346, 47968        |\\n|  4 | ER         | Team ER          | Ask Team ER                   | 1182               |\\n|  5 | ER         | ER1              | ER Team 1                     | 0301               |\\n|  6 | ER         | ER2              | ER Team 2                     | 0303               |\\n|  7 | ER         | ER3              | ER Team 3                     | 0334               |\\n|  8 | ER         | Resus1           | Resusitation 1                | 1107               |\\n|  9 | ER         | Resus2           | Resusitation 2                | 2282               |\\n| 10 | ER ward    | 1OW              | Observe Ward 1                | 1345, 1350         |\\n| 11 | ER ward    | 2OW              | Observe Ward 2                | 1334, 1339         |\\n| 12 | ER ward    | 3OW              | Observe Ward 3                | 0345, 2875         |\\n| 13 | ER ward    | 4IT              | ICU Trauma (4th floor)        | 2140, 2143         |\\n| 14 | ER ward    | 4TW              | Trauma Ward (4th floor)       | 1521, 1531         |\\n| 15 | Bldg.1     | IT - PAC         | IT PAC ในเวลา                 | 2462               |\\n| 16 | Bldg.1     | IT - PAC (duty)  | IT PAC นอกเวลา                | 46365              |\\n| 17 | Bldg.1     | US 2nd (Room)    | US 2nd floor (Room)           | 1340, 2497         |\\n| 18 | Bldg.1     | US 2nd (Counter) | US 2nd floor (Counter)        | 1247               |\\n| 19 | Sirikit    | AIMC - Gen       | AIMC - General (1st floor)    | 6700               |\\n| 20 | Sirikit    | AIMC - Film Room | AIMC - Film Room              | 6710               |\\n| 21 | Sirikit    | CT1              | AIMC - CT (1st floor)         | 6712               |\\n| 22 | Sirikit    | MR1              | AIMC - MR (1st floor)         | 6711               |\\n| 23 | Sirikit    | CT2              | AIMC - CT (2nd floor)         | 6733               |\\n| 24 | Sirikit    | MR2              | AIMC - MR (2nd floor)         | 6734               |\\n| 25 | SDMC       | CT - SDMC        | Tech CT at SDMC               | 3358, 080-246-1879 |\\n| 26 | nan        | ดาวเหลือง         | ดาวเหลือง                      | 0153               |\\n</phone_book>\\n\\nIf you don't know the answer, just say that you don't know. Return the output using provided <output-template>, replacing `CodeName` and `Telephone` variable with actual value.\\n\\n<output-template>\\n**CodeName** -> `Telephone`\\n</output-template>\\n\"),\n",
       " HumanMessage(content='H')]"
      ]
     },
     "execution_count": 9,
     "metadata": {},
     "output_type": "execute_result"
    }
   ],
   "source": [
    "from langchain.chains import create_retrieval_chain\n",
    "from langchain.chains.combine_documents import create_stuff_documents_chain\n",
    "from langchain_core.prompts import ChatPromptTemplate\n",
    "\n",
    "\n",
    "system_prompt = f\"\"\"You are an assistant for searching hospital telephone number. Use the following <phone_book> to answer human request. \n",
    "\n",
    "<phone_book>\n",
    "{telephone2_df.to_markdown()}\n",
    "</phone_book>\n",
    "\n",
    "If you don't know the answer, just say that you don't know. Return the output using provided <output-template>, replacing `CodeName` and `Telephone` variable with actual value.\n",
    "\n",
    "<output-template>\n",
    "**CodeName** -> `Telephone`\n",
    "</output-template>\n",
    "\"\"\"\n",
    "\n",
    "prompt = ChatPromptTemplate.from_messages(\n",
    "    [\n",
    "        (\"system\", system_prompt),\n",
    "        (\"human\", \"{input}\"),\n",
    "    ]\n",
    ")\n",
    "\n",
    "prompt.invoke({\"input\": \"H\"}).to_messages()"
   ]
  },
  {
   "cell_type": "code",
   "execution_count": 10,
   "metadata": {},
   "outputs": [],
   "source": [
    "chain = prompt | llm | StrOutputParser()"
   ]
  },
  {
   "cell_type": "code",
   "execution_count": 8,
   "metadata": {},
   "outputs": [
    {
     "name": "stdout",
     "output_type": "stream",
     "text": [
      "**`Resus1`** -> `1107`\n"
     ]
    }
   ],
   "source": [
    "res1 = chain.invoke(\"Resusitation 1\")\n",
    "print(res1)"
   ]
  },
  {
   "cell_type": "code",
   "execution_count": 11,
   "metadata": {},
   "outputs": [
    {
     "name": "stdout",
     "output_type": "stream",
     "text": [
      "**CT1** -> `6712`\n"
     ]
    }
   ],
   "source": [
    "res2 = chain.invoke(\"CT1\")\n",
    "print(res2)"
   ]
  },
  {
   "cell_type": "code",
   "execution_count": 12,
   "metadata": {},
   "outputs": [
    {
     "name": "stdout",
     "output_type": "stream",
     "text": [
      "**CT1** -> `6712`  \n",
      "**CT2** -> `6733`\n"
     ]
    }
   ],
   "source": [
    "res3 = chain.invoke(\"CT1, 2\")\n",
    "print(res3)"
   ]
  }
 ],
 "metadata": {
  "kernelspec": {
   "display_name": "Python 3",
   "language": "python",
   "name": "python3"
  },
  "language_info": {
   "codemirror_mode": {
    "name": "ipython",
    "version": 3
   },
   "file_extension": ".py",
   "mimetype": "text/x-python",
   "name": "python",
   "nbconvert_exporter": "python",
   "pygments_lexer": "ipython3",
   "version": "3.10.10"
  }
 },
 "nbformat": 4,
 "nbformat_minor": 2
}
