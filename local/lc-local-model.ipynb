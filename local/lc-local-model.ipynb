{
 "cells": [
  {
   "cell_type": "markdown",
   "metadata": {},
   "source": [
    "# Local LLM with LangChain"
   ]
  },
  {
   "cell_type": "code",
   "execution_count": null,
   "metadata": {},
   "outputs": [
    {
     "data": {
      "text/plain": [
       "'...Neil Armstrong! On July 20, 1969, Neil Armstrong stepped out of the lunar module Eagle and became the first person to set foot on the surface of the Moon. His famous words upon taking his first steps: \"That\\'s one small step for man, one giant leap for mankind.\"'"
      ]
     },
     "execution_count": 1,
     "metadata": {},
     "output_type": "execute_result"
    }
   ],
   "source": [
    "from langchain_ollama import OllamaLLM\n"
   ]
  },
  {
   "cell_type": "markdown",
   "metadata": {},
   "source": [
    "## Ollama"
   ]
  },
  {
   "cell_type": "code",
   "execution_count": 3,
   "metadata": {},
   "outputs": [
    {
     "data": {
      "text/plain": [
       "'...Neil Armstrong. He famously declared, \"That\\'s one small step for man, one giant leap for mankind,\" as he stepped out of the lunar module Eagle onto the surface of the Moon on July 20, 1969.'"
      ]
     },
     "execution_count": 3,
     "metadata": {},
     "output_type": "execute_result"
    }
   ],
   "source": [
    "llm1 = OllamaLLM(model=\"llama3.1:8b\")\n",
    "llm1.invoke(\"The first man on the moon was ...\")"
   ]
  },
  {
   "cell_type": "code",
   "execution_count": null,
   "metadata": {},
   "outputs": [
    {
     "data": {
      "text/plain": [
       "'<think>\\nOkay, so I\\'m trying to figure out how to answer the question \"The first man on the moon was ...\" I know that this is a common question related to space exploration. The user wants me to provide a detailed thought process and then a concise answer.\\n\\nFirst, I should recall what I know about the Apollo program. I remember hearing about Neil Armstrong being the first person to walk on the moon, but I\\'m not entirely sure of all the details. Let me break it down step by step.\\n\\nI think the Apollo missions were part of the U.S. space program during the 1960s. The goal was to reach the moon and bring back lunar samples. There were several Apollo missions, but the one that made history was Apollo 11. That rings a bell because I\\'ve seen photos of the command module on display.\\n\\nSo, Apollo 11 was launched in July 1969. Neil Armstrong was the commander of that mission. He was born in 1931, so he would have been in his late thirties during the mission. The other astronaut, Buzz Aldrin, was the pilot. I think they both became famous after this achievement.\\n\\nWait, there\\'s also a third astronaut on board, right? Yes, Michael Collins was the command module pilot. His role was crucial because he stayed in orbit around the moon while Armstrong and Aldrin landed on the surface.\\n\\nNow, about the actual landing. The command module, Columbia, rendezvous with the ladder that had been left by Apollo 11. Armstrong and Aldrin descended from the lunar module called the Eagle. I believe they used the ladder to climb down, but now I\\'m a bit fuzzy on whether it was a real ladder or just for show.\\n\\nThe moon landing itself happened on July 20, 1969, Eastern Time. So that would be in the early morning hours when they landed. Armstrong\\'s famous words upon stepping onto the moon were something like \"That\\'s one small step for man, one giant leap for mankind.\" I\\'m pretty sure that\\'s correct, but maybe I should double-check that quote.\\n\\nAfter landing, they collected samples and took pictures before returning to Earth. The mission was successful, and both Armstrong and Aldrin returned safely. Michael Collins also made it back, though he didn\\'t get to land on the moon.\\n\\nI think there were other Apollo missions after 11, like Apollo 12, which had more astronauts walking on the moon, but Apollo 11 was the first. So the answer is Neil Armstrong, Buzz Aldrin, and Michael Collins as the three astronauts involved in the first moon landing.\\n\\nWait, let me make sure I didn\\'t mix up any details. The name of the spacecraft was Columbia, yes, and the lunar module was called the Eagle. They used a ladder (or steps) to climb down, which is part of what made it such a memorable image.\\n\\nSo putting it all together, the first men on the moon were Neil Armstrong and Buzz Aldrin, with Michael Collins remaining in orbit. Therefore, the answer should mention all three, emphasizing that Armstrong was the first one to actually set foot on the moon.\\n</think>\\n\\nThe first humans to land on the moon were Neil Armstrong and Buzz Aldrin as part of the Apollo 11 mission on July 20, 1969. Michael Collins remained in orbit around the moon as the command module pilot. Armstrong\\'s iconic words upon arrival were, \"That\\'s one small step for man, one giant leap for mankind.\"'"
      ]
     },
     "execution_count": 2,
     "metadata": {},
     "output_type": "execute_result"
    }
   ],
   "source": [
    "llm2 = OllamaLLM(model=\"deepseek-r1:8b\")\n",
    "llm2.invoke(\"The first man on the moon was ...\")"
   ]
  }
 ],
 "metadata": {
  "kernelspec": {
   "display_name": "llm-env",
   "language": "python",
   "name": "python3"
  },
  "language_info": {
   "codemirror_mode": {
    "name": "ipython",
    "version": 3
   },
   "file_extension": ".py",
   "mimetype": "text/x-python",
   "name": "python",
   "nbconvert_exporter": "python",
   "pygments_lexer": "ipython3",
   "version": "3.12.2"
  }
 },
 "nbformat": 4,
 "nbformat_minor": 2
}
