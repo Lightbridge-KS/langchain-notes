{
 "cells": [
  {
   "cell_type": "markdown",
   "metadata": {},
   "source": [
    "# Telephone Bot"
   ]
  },
  {
   "cell_type": "code",
   "execution_count": 1,
   "metadata": {},
   "outputs": [],
   "source": [
    "from langchain_openai import ChatOpenAI\n",
    "from langchain_core.prompts import ChatPromptTemplate\n",
    "from langchain_core.runnables import RunnablePassthrough\n",
    "from langchain_core.documents import Document\n",
    "\n",
    "llm = ChatOpenAI(model=\"gpt-3.5-turbo-0125\")"
   ]
  },
  {
   "cell_type": "code",
   "execution_count": 2,
   "metadata": {},
   "outputs": [
    {
     "name": "stdout",
     "output_type": "stream",
     "text": [
      "Human: \n",
      "You are the superheroes phone number assistance. User will ask you about superheroes phone number.\n",
      "Your task is to search phone number from the provided 'Phone book' only. \n",
      "\n",
      "Phone book:\n",
      "your phone book\n",
      "\n",
      "User: your question\n",
      "\n"
     ]
    }
   ],
   "source": [
    "message = \"\"\"\n",
    "You are the superheroes phone number assistance. User will ask you about superheroes phone number.\n",
    "Your task is to search phone number from the provided 'Phone book' only. \n",
    "\n",
    "Phone book:\n",
    "{phone_book}\n",
    "\n",
    "User: {question}\n",
    "\"\"\"\n",
    "\n",
    "prompt = ChatPromptTemplate.from_messages([(\"human\", message)])\n",
    "\n",
    "print(prompt.invoke({\"phone_book\": \"your phone book\", \n",
    "                     \"question\": \"your question\",  \n",
    "                     \"message\": \"HI\"}).to_string())"
   ]
  },
  {
   "cell_type": "markdown",
   "metadata": {},
   "source": [
    "## Documents"
   ]
  },
  {
   "cell_type": "code",
   "execution_count": 4,
   "metadata": {},
   "outputs": [],
   "source": [
    "phone_book1=\"\"\"\n",
    "Superhero Name: Phone Number\n",
    "---\n",
    "Thunderbolt Titan: 12345\n",
    "Shadow Specter: 67890\n",
    "Solar Flare: 23456\n",
    "Frostbite Fury: 78901\n",
    "Iron Guardian: 34567\n",
    "---\n",
    "\"\"\"\n",
    "\n",
    "phone_book2=\"\"\"\n",
    "Superhero Name: Phone Number\n",
    "---\n",
    "Quantum Quasar: 89012\n",
    "Dynamo Dynamo: 45678\n",
    "Emerald Enforcer: 90123\n",
    "Crimson Cyclone: 56789\n",
    "Lightning Lynx: 01234\n",
    "---\n",
    "\"\"\""
   ]
  },
  {
   "cell_type": "code",
   "execution_count": 43,
   "metadata": {},
   "outputs": [
    {
     "data": {
      "text/plain": [
       "langchain_core.documents.base.Document"
      ]
     },
     "execution_count": 43,
     "metadata": {},
     "output_type": "execute_result"
    }
   ],
   "source": [
    "phonebook_doc = [\n",
    "    Document(\n",
    "        page_content=phone_book1,\n",
    "        metadata={\"source\": \"phone_book1\"},\n",
    "    ),\n",
    "    Document(\n",
    "        page_content=phone_book2,\n",
    "        metadata={\"source\": \"phone_book2\"},\n",
    "    )\n",
    "]\n",
    "\n",
    "type(phonebook_doc[0])"
   ]
  },
  {
   "cell_type": "markdown",
   "metadata": {},
   "source": [
    "## Markdown Doc"
   ]
  },
  {
   "cell_type": "code",
   "execution_count": 6,
   "metadata": {},
   "outputs": [],
   "source": [
    "from langchain_community.document_loaders import UnstructuredMarkdownLoader\n",
    "from langchain_core.documents import Document\n",
    "\n",
    "loader = UnstructuredMarkdownLoader(\"phonebook.md\")\n",
    "\n",
    "phonebook_doc_md = loader.load()\n",
    "assert len(phonebook_doc_md) == 1\n",
    "assert isinstance(phonebook_doc_md[0], Document)"
   ]
  },
  {
   "cell_type": "code",
   "execution_count": 5,
   "metadata": {},
   "outputs": [
    {
     "data": {
      "text/plain": [
       "langchain_core.documents.base.Document"
      ]
     },
     "execution_count": 5,
     "metadata": {},
     "output_type": "execute_result"
    }
   ],
   "source": [
    "type(phonebook_doc_md[0])"
   ]
  },
  {
   "cell_type": "code",
   "execution_count": 8,
   "metadata": {},
   "outputs": [
    {
     "name": "stdout",
     "output_type": "stream",
     "text": [
      "title: \"Superheroes PhoneBook\"\n",
      "\n",
      "Provided below are superheroes phone book, provided as Superhero Name: Phone Number:\n",
      "\n",
      "Thunderbolt Titan: 12345\n",
      "\n",
      "Shadow Specter: 67890\n",
      "\n",
      "Solar Flare: 23456\n",
      "\n",
      "Frostbite Fury: 78901\n",
      "\n",
      "Iron Guardian: 34567\n",
      "\n",
      "Quantum Quasar: 89012\n",
      "\n",
      "Dynamo Dynamo: 45678\n",
      "\n",
      "Emerald Enforcer: 90123\n",
      "\n",
      "Crimson Cyclone: 56789\n",
      "\n",
      "Lightning Lynx: 01234\n",
      "\n",
      "Nick Fury: 32453\n"
     ]
    }
   ],
   "source": [
    "phonebook_content = phonebook_doc_md[0].page_content\n",
    "print(phonebook_content)"
   ]
  },
  {
   "cell_type": "code",
   "execution_count": 33,
   "metadata": {},
   "outputs": [
    {
     "name": "stdout",
     "output_type": "stream",
     "text": [
      "Number of documents: 12\n",
      "\n",
      "page_content='title: \"Superheroes PhoneBook\"' metadata={'source': 'phonebook.md', 'last_modified': '2024-05-28T00:05:15', 'languages': ['eng'], 'filetype': 'text/markdown', 'filename': 'phonebook.md', 'category': 'Title'}\n",
      "\n",
      "page_content='Provided below are superheroes phone book, provided as Superhero Name: Phone Number:' metadata={'source': 'phonebook.md', 'last_modified': '2024-05-28T00:05:15', 'languages': ['eng'], 'parent_id': '3ceb010c52572ff7848fdb991fbb8c21', 'filetype': 'text/markdown', 'filename': 'phonebook.md', 'category': 'NarrativeText'}\n",
      "\n"
     ]
    }
   ],
   "source": [
    "loader = UnstructuredMarkdownLoader(\"phonebook.md\", mode=\"elements\")\n",
    "\n",
    "data = loader.load()\n",
    "print(f\"Number of documents: {len(data)}\\n\")\n",
    "\n",
    "for document in data[:2]:\n",
    "    print(f\"{document}\\n\")"
   ]
  },
  {
   "cell_type": "markdown",
   "metadata": {},
   "source": [
    "## Vector Store"
   ]
  },
  {
   "cell_type": "code",
   "execution_count": 9,
   "metadata": {},
   "outputs": [],
   "source": [
    "from langchain_chroma import Chroma\n",
    "from langchain_openai import OpenAIEmbeddings\n",
    "\n",
    "phonebook_chroma = Chroma.from_documents(\n",
    "    phonebook_doc_md, # phonebook_doc,\n",
    "    embedding=OpenAIEmbeddings(),\n",
    ")"
   ]
  },
  {
   "cell_type": "code",
   "execution_count": 52,
   "metadata": {},
   "outputs": [
    {
     "data": {
      "text/plain": [
       "[Document(page_content='\\nSuperhero Name: Phone Number\\n---\\nThunderbolt Titan: 12345\\nShadow Specter: 67890\\nSolar Flare: 23456\\nFrostbite Fury: 78901\\nIron Guardian: 34567\\n---\\n', metadata={'source': 'phone_book1'}),\n",
       " Document(page_content='title: \"Superheroes PhoneBook\"\\n\\nProvided below are superheroes phone book, provided as Superhero Name: Phone Number:\\n\\nThunderbolt Titan: 12345\\n\\nShadow Specter: 67890\\n\\nSolar Flare: 23456\\n\\nFrostbite Fury: 78901\\n\\nIron Guardian: 34567\\n\\nQuantum Quasar: 89012\\n\\nDynamo Dynamo: 45678\\n\\nEmerald Enforcer: 90123\\n\\nCrimson Cyclone: 56789\\n\\nLightning Lynx: 01234', metadata={'source': 'phonebook.md'}),\n",
       " Document(page_content='title: \"Superheroes PhoneBook\"\\n\\nProvided below are superheroes phone book, provided as Superhero Name: Phone Number:\\n\\nThunderbolt Titan: 12345\\n\\nShadow Specter: 67890\\n\\nSolar Flare: 23456\\n\\nFrostbite Fury: 78901\\n\\nIron Guardian: 34567\\n\\nQuantum Quasar: 89012\\n\\nDynamo Dynamo: 45678\\n\\nEmerald Enforcer: 90123\\n\\nCrimson Cyclone: 56789\\n\\nLightning Lynx: 01234', metadata={'source': 'phonebook.md'}),\n",
       " Document(page_content='title: \"Superheroes PhoneBook\"\\n\\nProvided below are superheroes phone book, provided as Superhero Name: Phone Number:\\n\\nThunderbolt Titan: 12345\\n\\nShadow Specter: 67890\\n\\nSolar Flare: 23456\\n\\nFrostbite Fury: 78901\\n\\nIron Guardian: 34567\\n\\nQuantum Quasar: 89012\\n\\nDynamo Dynamo: 45678\\n\\nEmerald Enforcer: 90123\\n\\nCrimson Cyclone: 56789\\n\\nLightning Lynx: 01234', metadata={'source': 'phonebook.md'})]"
      ]
     },
     "execution_count": 52,
     "metadata": {},
     "output_type": "execute_result"
    }
   ],
   "source": [
    "phonebook_chroma.similarity_search(\"Thunderbolt\")"
   ]
  },
  {
   "cell_type": "markdown",
   "metadata": {},
   "source": [
    "## Retriver"
   ]
  },
  {
   "cell_type": "code",
   "execution_count": 11,
   "metadata": {},
   "outputs": [],
   "source": [
    "retriever = phonebook_chroma.as_retriever(\n",
    "    search_type=\"similarity\",\n",
    "    search_kwargs={\"k\": 1},\n",
    ")\n"
   ]
  },
  {
   "cell_type": "markdown",
   "metadata": {},
   "source": [
    "## Chain"
   ]
  },
  {
   "cell_type": "code",
   "execution_count": 12,
   "metadata": {},
   "outputs": [],
   "source": [
    "rag_chain = {\"phone_book\": retriever, \n",
    "             \"question\": RunnablePassthrough()} | prompt | llm"
   ]
  },
  {
   "cell_type": "markdown",
   "metadata": {},
   "source": [
    "## Execute"
   ]
  },
  {
   "cell_type": "code",
   "execution_count": 55,
   "metadata": {},
   "outputs": [
    {
     "name": "stdout",
     "output_type": "stream",
     "text": [
      "The phone number for Thunderbolt Titan is 12345.\n"
     ]
    }
   ],
   "source": [
    "resp1 = rag_chain.invoke(\"What's Thunderbolt phone number?\")\n",
    "print(resp1.content)"
   ]
  },
  {
   "cell_type": "code",
   "execution_count": 24,
   "metadata": {},
   "outputs": [
    {
     "name": "stdout",
     "output_type": "stream",
     "text": [
      "The phone number for Iron Guardian is 34567.\n"
     ]
    }
   ],
   "source": [
    "resp2 = rag_chain.invoke(\"Iron Guardian\")\n",
    "print(resp2.content)"
   ]
  },
  {
   "cell_type": "code",
   "execution_count": 56,
   "metadata": {},
   "outputs": [
    {
     "name": "stdout",
     "output_type": "stream",
     "text": [
      "User: Iron Guardian has the phone number 34567.\n"
     ]
    }
   ],
   "source": [
    "resp3 = rag_chain.invoke(\"Who has a phone number 34567?\")\n",
    "print(resp3.content)"
   ]
  },
  {
   "cell_type": "code",
   "execution_count": 57,
   "metadata": {},
   "outputs": [
    {
     "name": "stdout",
     "output_type": "stream",
     "text": [
      "I'm sorry, Superman's phone number is not listed in the provided phone book. The superheroes listed in the phone book are Quantum Quasar, Dynamo Dynamo, Emerald Enforcer, Crimson Cyclone, and Lightning Lynx. Let me know if you need the phone number for any of these superheroes.\n"
     ]
    }
   ],
   "source": [
    "resp4 = rag_chain.invoke(\"What's the superman phone number?\")\n",
    "print(resp4.content)"
   ]
  },
  {
   "cell_type": "code",
   "execution_count": 13,
   "metadata": {},
   "outputs": [
    {
     "name": "stdout",
     "output_type": "stream",
     "text": [
      "Nick Fury's phone number is 32453.\n"
     ]
    }
   ],
   "source": [
    "resp5 = rag_chain.invoke(\"What's the Nick Fury phone number?\")\n",
    "print(resp5.content)"
   ]
  }
 ],
 "metadata": {
  "kernelspec": {
   "display_name": "Python 3",
   "language": "python",
   "name": "python3"
  },
  "language_info": {
   "codemirror_mode": {
    "name": "ipython",
    "version": 3
   },
   "file_extension": ".py",
   "mimetype": "text/x-python",
   "name": "python",
   "nbconvert_exporter": "python",
   "pygments_lexer": "ipython3",
   "version": "3.10.10"
  }
 },
 "nbformat": 4,
 "nbformat_minor": 2
}
