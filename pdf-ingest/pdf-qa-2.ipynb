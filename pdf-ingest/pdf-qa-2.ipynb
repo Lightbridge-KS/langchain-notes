{
 "cells": [
  {
   "cell_type": "markdown",
   "metadata": {},
   "source": [
    "# PDF Q&A System (Radio)"
   ]
  },
  {
   "cell_type": "code",
   "execution_count": 1,
   "metadata": {},
   "outputs": [],
   "source": [
    "import os\n",
    "from langchain_openai import ChatOpenAI\n",
    "from langchain_chroma import Chroma\n",
    "from langchain_openai import OpenAIEmbeddings\n",
    "from langchain_text_splitters import RecursiveCharacterTextSplitter\n",
    "\n",
    "\n",
    "llm = ChatOpenAI(model=\"gpt-4o\")"
   ]
  },
  {
   "cell_type": "markdown",
   "metadata": {},
   "source": [
    "## Load PDF"
   ]
  },
  {
   "cell_type": "code",
   "execution_count": 2,
   "metadata": {},
   "outputs": [
    {
     "name": "stdout",
     "output_type": "stream",
     "text": [
      "55\n"
     ]
    }
   ],
   "source": [
    "from langchain_community.document_loaders import PyPDFLoader\n",
    "loader = PyPDFLoader(\"pdf/2024_Fleischner Society_Glossary of Terms for Thoracic Imaging.pdf\")\n",
    "\n",
    "docs = loader.load()\n",
    "print(len(docs))"
   ]
  },
  {
   "cell_type": "code",
   "execution_count": 8,
   "metadata": {},
   "outputs": [
    {
     "data": {
      "text/plain": [
       "[Document(metadata={'source': 'pdf/2024_Fleischner Society_Glossary of Terms for Thoracic Imaging.pdf', 'page': 0}, page_content='REVIEWS AND COMMENTARY  • STATEMENTS AND GUIDELINES\\nThis copy is for personal use only. T o order copies, contact reprints@rsna.orgThe present glossary of terms for thoracic imaging is the \\nfourth prepared by members of the Fleischner Society \\nand replaces the previous glossaries of terms for chest radi-\\nography (1) and CT (2,3), respectively. The impetus to up-\\ndate the previous version arose from an awareness that new \\nterms have emerged, others have become obsolete, and the \\nusage of some terms has either changed or become incon-\\nsistent to a degree that warranted a new definition. The \\nmethodology used for compiling this glossary is described \\nin Appendix S1. Appendix S2 summarizes the terms in-\\ncluded, excluded, and rearranged, compared with the pre-\\nvious version of the glossary.\\nThe intention of this latest glossary is not to be exhaus-\\ntive but to focus on terms of clinical importance and those \\nwhose meaning may be perceived as vague or ambigu-\\nous. This focus is important to establish standardization \\nof terminology and, thereby, to facilitate communications \\nbetween radiologists and other clinicians. Moreover, the \\ncurrent glossary aims for more stringent, consistent termi-\\nnology required by structured reporting and essential for \\nreasonably accurate searches in large databases (4,5).\\nControversial or misused terms are also included, with \\nrecommendations for appropriate usage. Whenever this is \\nnot supported by objective evidence, the consensus prefer-\\nence of the authors is clearly identified. In this regard, the \\ncurrent glossary is not only an enumeration of terms and their definitions, but also a commentary regarding their \\nuse.\\nAs in previous versions, terms and techniques not spe-\\ncific to thoracic imaging are not included. Despite sporadic \\nreferences to fluorine 18 (18F) fluorodeoxyglucose PET/\\nCT, most definitions continue to refer to chest radiogra-\\nphy and CT, which remain the chief modalities used in \\nthoracic imaging. The overall number of terms was kept \\nalmost identical. However, several features are new.\\nFirst, the glossary preserves the alphabetical order of \\nterms, but several related terms are now grouped under \\nthematic headings to allow a rapid overview for compar-\\ning individual terms. The number of imaging signs was \\nreduced, as these are comprehensively described elsewhere \\n(6–8). Likewise, the number of eponyms was reduced to a \\nminimum, and preference was given to descriptive terms, \\nwhenever possible. Most terms continue to have a limited \\nnumber of pertinent and updated references, but not all \\nterms are referenced.\\nSecond, for brevity, the glossary no longer includes sub-\\ndivisions into pathology, radiographic, and CT definitions. \\nEach term is now labeled to either reflect normal anatomy \\n(anatomy), a physiologic concept (physiology), or an abnor-\\nmal finding (pathology). It is important to emphasize that \\nthis is a glossary of radiologic terms and that, while often \\ngrounded in radiology-pathology correlations, terms labeled Members of the Fleischner Society have compiled a glossary of terms for thoracic imaging that replaces previous glossaries published in \\n1984, 1996, and 2008, respectively. The impetus to update the previous version arose from multiple considerations. These include an \\nawareness that new terms and concepts have emerged, others have become obsolete, and the usage of some terms has either changed or \\nbecome inconsistent to a degree that warranted a new definition. This latest glossary is focused on terms of clinical importance and on \\nthose whose meaning may be perceived as vague or ambiguous. As with previous versions, the aim of the present glossary is to establish \\nstandardization of terminology for thoracic radiology and, thereby, to facilitate communications between radiologists and other clini-\\ncians. Moreover, the present glossary aims to contribute to a more stringent use of terminology, increasingly required for structured \\nreporting and accurate searches in large databases. Compared with the previous version, the number of images (chest radiography and \\nCT) in the current version has substantially increased. The authors hope that this will enhance its educational and practical value.\\nAll definitions and images are hyperlinked throughout the text. Click on each figure callout to view corresponding image.\\n© RSNA, 2024 \\nSupplemental material is available for this article.Fleischner Society: Glossary of Terms for Thoracic Imaging\\nAlexander A. Bankier, MD, PhD • Heber MacMahon, MB, BCh  • Thomas Colby, MD  •  \\nPierre Alain Gevenois, MD, PhD • Jin Mo Goo, MD, PhD • Ann N.C. Leung, MD •  \\nDavid A. Lynch, MB, BCh • Cornelia M. Schaefer-Prokop, MD • Noriyuki Tomiyama, MD, PhD •  \\nWilliam D. Travis, MD • Johny A. Verschakelen, MD, PhD • Charles S. White, MD • David P . Naidich, MD\\nFrom the Dept of Radiology, University of Massachusetts Memorial Health and University of Massachusetts Chan Medical School, 55 Lake Ave N, Worcester, MA 01655 \\n(A.A.B.); Dept of Radiology, University of Chicago, Chicago, Ill (H.M.); Dept of Pathology, Mayo Clinic Scottsdale, Scottsdale, Ariz (T.C.); Dept of Pulmonology, \\nUniversité Libre de Bruxelles, Brussels, Belgium (P .A.G.); Dept of Radiology, Seoul National University Hospital, Seoul, Korea (J.M.G.); Center for Academic Medicine, \\nDept of Radiology, Stanford University, Palo Alto, Calif (A.N.C.L.); Dept of Radiology, National Jewish Medical and Research Center, Denver, Colo (D.A.L.); Dept \\nof Radiology, Meander Medical Centre Amersfoort, Amersfoort, the Netherlands (C.M.S.P .); Dept of Radiology, Osaka University Graduate School of Medicine, Suita, \\nJapan (N.T.); Dept of Pathology, Memorial Sloan Kettering Cancer Center, New York, NY (W.D.T.); Dept of Radiology, Catholic University Leuven, University Hospital \\nGasthuisberg, Leuven, Belgium (J.A.V.); Dept of Diagnostic Radiology, University of Maryland Hospital, Baltimore, Md (C.S.W.); and Dept of Radiology, NYU Langone \\nMedical Center/Tisch Hospital, New York, NY (D.P .N.). Received October 25, 2023; revision requested November 3; final revision received January 17, 2024; accepted \\nJanuary 31. Address correspondence to A.A.B. (email: alexander.bankier@umassmemorial.org).\\nConflicts of interest are listed at the end of this article.\\nSee also the editorial by Adusumilli in the March 2024 issue.\\nSee also the editorial by Bhalla in the February 2024 issue.\\nSee also the editorial by Hariri et al in the March 2024 issue.\\nSee also the editorial by Powell in the February 2024 issue.\\nRadiology 2024; 310(2):232558  •  https://doi.org/10.1148/radiol.232558  •  Content code: \\n'),\n",
       " Document(metadata={'source': 'pdf/2024_Fleischner Society_Glossary of Terms for Thoracic Imaging.pdf', 'page': 1}, page_content='Fleischner Society: Glossary of Terms for Thoracic Imaging2 radiology.rsna.org \\u2002 ■\\u2002Radiology: Volume 3 10: Number 2—February 2024\\nas pathology do not necessarily faithfully reflect definitions used \\nby pathologists. Some terms are labeled as descriptors to differ-\\nentiate them from terms that imply a radiologic diagnosis. Terms \\ndescribed elsewhere are cross-referenced by an asterisk (*).\\nThird, the glossary includes images for virtually all terms, and \\nwe hope that this will increase its practical value. While images \\nwere chosen to be typical for a given term, they are merely ex-\\namples and do not represent the full range of possible imaging \\nappearances, which may be found in the references of this glos-\\nsary and in comprehensive textbooks.\\nWe hope that this fourth edition of the Fleischner Society \\nGlossary of Terms for Thoracic Imaging will be helpful for both \\nradiologists and the respiratory medicine community at large. \\nBecause terminology is evolving, the provided definitions should \\nbe understood as a consensus proposal rather than strict rules. It \\nis anticipated that systematic evaluations of the utilization of this \\nglossary will be undertaken.\\nAcinus (Pl. Acini) (Anatomy)\\nThe acinus is a structural unit of the lung distal to the terminal \\nbronchiole* and is supplied by a first-order respiratory bronchi-\\nole, with a diameter of approximately 4-8 mm. The secondary \\npulmonary lobule* contains between three and 25 acini. Within \\nthe acinus, all parts are involved in gas exchange (ie, they contain \\nalveoli). The acinus consists of respiratory bronchioles, alveolar \\nducts, and alveoli. Normal acini are not visible radiologically but \\nthe accumulation of pathologic material within acini may be \\nseen as small ill-defined rounded opacities (opacity*), sometimes \\ncalled “air space nodules” (9,10).\\nAir Bronchogram (Pathology) [Descriptor] (Fig 1)\\nAir bronchogram is the descriptive term for air-filled airways* \\nwithin lung parenchyma* that is partially or completely air-\\nless. The term implies (a) patency of proximal airways, and (b) \\nevacuation of alveolar air by means of absorption (eg, in atelec-\\ntasis*) or replacement (eg, fluid, tumor), or a combination of \\nthese processes (11).\\nAir Crescent (Pathology) [Descriptor] (Figs 2, 3)\\nAir crescent is the descriptive term for a crescent-shaped air \\ncollection between the wall of a cavity* and a mass* within \\nthe cavity. It is often associated with the retraction of infarcted \\nlung parenchyma* in angio-invasive aspergillosis or with the \\ncolonization of preexisting cavities by Aspergillus or other \\nfungi. In the latter case, the resulting fungus ball* may be mo-\\nbile and change position with changes in the patient’s position. \\nAir crescents can also occur due to necrotic tissue or a blood \\nclot within a cavity* (12,13).\\nAir Trapping (Physiology/Pathology) (Fig 4)\\nAir trapping is the retention of air in lung parenchyma* distal \\nto more proximal obstruction of one or several airways*. Air \\ntrapping (also “gas trapping”) is seen at CT performed during \\nor at the end of expiration. It is characterized by (a) a less-\\nthan-normal increase in attenuation and (b) a less-than-normal \\ndecrease in volume on expiration. Air trapping should only be called on expiratory CT examinations (14). Of note, areas of \\nair trapping are typically sharply marginated, however distinc-\\ntion between air trapping and decreased attenuation due to \\nvascular occlusion, for example in chronic thromboembolic \\ndisease, may be difficult (15,16). Air trapping is also frequently \\nassociated with decreased focal perfusion (eg, caused by reac-\\ntive vasoconstriction) (17–19).\\nAirspace (Anatomy)\\nAn airspace is the air- or gas-containing part of the lung paren-\\nchyma*, including the respiratory bronchioles (bronchiole*), \\nalveolar ducts, and alveoli, but excluding purely conductive air-\\nways* such as terminal bronchioles. The term is used in conjunc-\\ntion with opacity* and nodule* to designate the accumulation of \\nmaterial within airspaces (20).\\nAirways (Anatomy)\\nThe airways are structural parts of the respiratory system that al-\\nlow airflow. Conducting airways extend from the nares and buccal \\nopening to the terminal bronchioles (bronchiole*). Large airways \\ninclude the cervical and thoracic part of the trachea, as well as \\nthe main, lobar, and segmental bronchi. Small airways include the \\nsubsegmental bronchi to bronchioles with an internal diameter of \\nless than 2 mm. Diseases of the central airways can often be visual-\\nized directly at CT, whereas diseases of the peripheral airways often \\nmanifest through indirect changes (eg, air trapping*) (21–23).\\nAnatomic Distribution (Anatomy) (Figs 5–25)\\n• Bronchocentric: adjacent to or involving the bronchi in \\nthe axial interstitium* (Fig 5).\\n• Centrilobular: centered on the core structures of the sec-\\nondary pulmonary lobule* (Figs 6, 7). Often used to \\ndescribe the distribution of nodules (nodule*) or mi-\\ncronodules (micronodule*).\\n• Diffuse: distributed throughout a lobe* or lobes without \\nparticular regional predominance, for example be-\\ntween central and peripheral parts of the lung (Fig 8).\\n• Endobronchial: located within the lumen of a bronchus \\n(Figs 9, 10).\\n• Extrapleural: external to the pleura, without directly in-\\nvolving the pleura* or the pleural space (Fig 11).\\n• Fissural: refers to a lesion or disease that arises from or in-\\nvolves the fissure* (Fig 12). A lesion or disease that has \\ndirect contact with the fissure*, but does not arise from \\nit, should be called “perifissural.”\\n• Focal: confined to one distinct area (Fig 13).\\n• Geographic: distributed in a manner resembling the out-\\nline of regions on a map. The term implies well-defined \\nmargins between areas of differing attenuation (Fig 14).'),\n",
       " Document(metadata={'source': 'pdf/2024_Fleischner Society_Glossary of Terms for Thoracic Imaging.pdf', 'page': 2}, page_content='Bankier et alRadiology: Volume 3 10: Number 2—February 2024 \\u2002 ■\\u2002radiology.rsna.org 3• Multifocal: involving two or more distinct areas (Figs \\n15, 16).\\n• Peribronchovascular: distributed along the bronchovas-\\ncular bundles (Figs 17, 18).\\n• Perilobular: Arcade-like or curvilinear opacities that \\ncan be related to the margins of secondary pulmo-\\nnary lobules (Figs 19, 20).\\n• Perilymphatic: distributed along lymphatic vessels (Figs \\n21, 22). \\n• Pleural: refers to a lesion or disease that arises from or \\ninvolves the pleura*. A lesion or disease that has \\ncontact with the pleura*, but does not arise from it, \\nshould be called pleura-based. The term subpleural  \\nshould only be used for lesions or diseases in prox-\\nimity to the pleura*, but without direct contact to \\nit. Because this term has been attributed variable \\nmeanings in the literature, the term peripheral is pre-\\nferred to describe such lesions or diseases. Of note, \\nimaging cannot always determine whether a given \\nlesion is located between two layers of pleura or \\nwithin the pleura, or in the parenchyma and directly \\ncontiguous to the pleura (Figs 23–25).\\nThe prefix juxta- has been used inconsistently to describe le-\\nsions that are variously in proximity or in contact with the pleura* \\nor a fissure* (juxtafissural, juxtapleural) (24). We recommend \\ninstead using the more stringent terminology described above.\\nAortopulmonary Window (Anatomy) (Fig 26)\\nThe aortopulmonary window is a mediastinal compartment \\ndelimited anteriorly by the ascending aorta, posteriorly by the \\ndescending aorta, cranially by the aortic arch, caudally by the left \\npulmonary artery, medially by the trachea and the lateral wall of \\nthe left main bronchus, and laterally by the medial pleura* cover-\\ning the left lung. The aortopulmonary window contains lymph \\nnodes (lymph node*) and connective tissue and is traversed by \\nthe left phrenic nerve, the left vagus nerve, the left recurrent la-\\nryngeal nerve, and the left bronchial arteries. It is separated into \\na medial and lateral part by the ligamentum arteriosum (25).\\nApical Cap (Pathology) (Fig 27)\\nApical caps are cap-like rims at the lung apices, often bilateral, \\nusually caused by pulmonary and/or pleural fibrosis* displac-\\ning extrapleural fat. Chronic ischemia causing a plaque of elas-\\ntotic fibrosis of the visceral pleura*, with or without subpleural \\nlung parenchyma*, has been suggested as the potential patho-\\ngenesis, which is variably associated with aging. In addition, \\napical caps can be caused by fluid collections associated with \\ninfection, neoplasms, or trauma, either extrapleural or within \\nthe pleural space. A left apical cap can be caused by hematoma, \\nsuch as resulting from aortic rupture (26–28). Moderate or se-\\nvere apical pleural caps also can be seen in upper lobe fibrosis, \\nincluding pleuroparenchymal fibroelastosis (29).Architectural Distortion (Pathology) (Fig 28)\\nArchitectural distortion is characterized by the focal or dif-\\nfuse derangement of the normal pulmonary anatomy, with \\nabnormal displacement or disruption of airways*, vessels, and \\ninterstitium*. It is typically accompanied by volume loss* and \\nis commonly seen in fibrotic lung diseases (30,31).\\nAsbestosis (Pathology) (Fig 29)\\nAsbestosis is an occupational lung disease characterized by \\nlower-lobe predominant pulmonary fibrosis caused by inhala-\\ntion of asbestos fibers. Once established, fibrosis can progress. \\nHowever, even without progression, the risk of lung cancer is \\nincreased. In addition, asbestos exposure increases the risk of \\nmesothelioma. However, asbestosis is usually associated with \\nhigh levels of asbestos exposure, in distinction to mesothe-\\nlioma. Although pleural plaques, calcified or noncalcified, \\nmay also be identified, their presence is not essential for the \\ndiagnosis (pleural plaque*) (32,33).\\nAspiration (Pathology)\\nAspiration is the unintended inhalation of solid and/or fluid \\nsubstances (“aspirate”). Depending on its location and ex-\\ntent within the airways*, the aspirate can cause atelectasis*, \\ninflammation (“aspiration pneumonitis/bronchiolitis”), or \\ninfection (“aspiration pneumonia”). Changes caused by aspi-\\nration are most commonly seen in the posterior portions of \\nthe lungs and predispose to infection with anaerobic bacteria. \\nSequelae of aspiration, including scarring and bronchiectasis, \\ncan be seen in variable anatomic locations but tend to follow \\nthe direction of gravity (34,35).\\nAtelectasis (Pathology) (Figs 30–40)\\nAtelectasis is a partial or complete collapse* of the lung. Atel-\\nectasis can be caused by loss of negative pressure in the pleural \\nspace and/or by compression of lung parenchyma* (eg, by \\npleural effusions*), by resorption of air following obstruction \\n(eg, by a foreign body or a neoplasm), or by an increase in al-\\nveolar surface tension (eg, by surfactant dysfunction). Atelec-\\ntasis shows lower volume and higher attenuation than normal \\nlung tissue and is often associated with abnormal displace-\\nment of fissures (fissure*), bronchi, vessels, hyperinflation of \\nadjacent lobes (lobe*), or obscuration of cardiac and medias-\\ntinal interfaces (36,37).\\n• Lobar: atelectasis of an entire pulmonary lobe* (Figs \\n30–37).\\n• Linear (formerly “plate-like” or “band-like”): descriptor \\nfor local atelectasis with a linear, plate-like, or band-\\nlike shape (Figs 38, 39).\\nOften seen in dependent lung regions, paralleling the hemi-\\ndiaphragms on chest radiographs and the chest wall on CT \\nexaminations. Of note, the geometric definition of “line” re-\\nfers to a one-dimensional structure. While the cross-sectional \\nappearance of an atelectasis may appear linear, the atelectasis \\nitself has greater dimensionality than a line.')]"
      ]
     },
     "execution_count": 8,
     "metadata": {},
     "output_type": "execute_result"
    }
   ],
   "source": [
    "docs[0:3]"
   ]
  },
  {
   "cell_type": "code",
   "execution_count": 5,
   "metadata": {},
   "outputs": [
    {
     "name": "stdout",
     "output_type": "stream",
     "text": [
      "REVIEWS AND COMMENTARY  • STATEMENTS AND GUIDELINES\n",
      "This copy is for personal use only. T o order copies, contact reprints@rsna.orgThe present glossary of terms for thoracic imaging is the \n",
      "fourth prepared by members of the Fleischner Society \n",
      "and replaces the previous glossaries of terms for chest radi-\n",
      "ography (1) and CT (2,3), respectively. The impetus to up-\n",
      "date the previous version arose from an awareness that new \n",
      "terms have emerged, others have become obsolete, and the \n",
      "usage of some terms has either changed or become incon-\n",
      "sistent to a degree that warranted a new definition. The \n",
      "methodology used for compiling this glossary is described \n",
      "in Appendix S1. Appendix S2 summarizes the terms in-\n",
      "cluded, excluded, and rearranged, compared with the pre-\n",
      "vious version of the glossary.\n",
      "The intention of this latest glossary is not to be exhaus-\n",
      "tive but to focus on terms of clinical importance and those \n",
      "whose meaning may be perceived as vague or ambigu-\n",
      "ous. This focus is important to establish standardization \n",
      "of terminology and, thereby, to facilitate communications \n",
      "between radiologists and other clinicians. Moreover, the \n",
      "current glossary aims for more stringent, consistent termi-\n",
      "nology required by structured reporting and essential for \n",
      "reasonably accurate searches in large databases (4,5).\n",
      "Controversial or misused terms are also included, with \n",
      "recommendations for appropriate usage. Whenever this is \n",
      "not supported by objective evidence, the consensus prefer-\n",
      "ence of the authors is clearly identified. In this regard, the \n",
      "current glossary is not only an enumeration of terms and their definitions, but also a commentary regarding their \n",
      "use.\n",
      "As in previous versions, terms and techniques not spe-\n",
      "cific to thoracic imaging are not included. Despite sporadic \n",
      "references to fluorine 18 (18F) fluorodeoxyglucose PET/\n",
      "CT, most definitions continue to refer to chest radiogra-\n",
      "phy and CT, which remain the chief modalities used in \n",
      "thoracic imaging. The overall number of terms was kept \n",
      "almost identical. However, several features are new.\n",
      "First, the glossary preserves the alphabetical order of \n",
      "terms, but several related terms are now grouped under \n",
      "thematic headings to allow a rapid overview for compar-\n",
      "ing individual terms. The number of imaging signs was \n",
      "reduced, as these are comprehensively described elsewhere \n",
      "(6–8). Likewise, the number of eponyms was reduced to a \n",
      "minimum, and preference was given to descriptive terms, \n",
      "whenever possible. Most terms continue to have a limited \n",
      "number of pertinent and updated references, but not all \n",
      "terms are referenced.\n",
      "Second, for brevity, the glossary no longer includes sub-\n",
      "divisions into pathology, radiographic, and CT definitions. \n",
      "Each term is now labeled to either reflect normal anatomy \n",
      "(anatomy), a physiologic concept (physiology), or an abnor-\n",
      "mal finding (pathology). It is important to emphasize that \n",
      "this is a glossary of radiologic terms and that, while often \n",
      "grounded in radiology-pathology correlations, terms labeled Members of the Fleischner Society have compiled a glossary of terms for thoracic imaging that replaces previous glossaries published in \n",
      "1984, 1996, and 2008, respectively. The impetus to update the previous version arose from multiple considerations. These include an \n",
      "awareness that new terms and concepts have emerged, others have become obsolete, and the usage of some terms has either changed or \n",
      "become inconsistent to a degree that warranted a new definition. This latest glossary is focused on terms of clinical importance and on \n",
      "those whose meaning may be perceived as vague or ambiguous. As with previous versions, the aim of the present glossary is to establish \n",
      "standardization of terminology for thoracic radiology and, thereby, to facilitate communications between radiologists and other clini-\n",
      "cians. Moreover, the present glossary aims to contribute to a more stringent use of terminology, increasingly required for structured \n",
      "reporting and accurate searches in large databases. Compared with the previous version, the number of images (chest radiography and \n",
      "CT) in the current version has substantially increased. The authors hope that this will enhance its educational and practical value.\n",
      "All definitions and images are hyperlinked throughout the text. Click on each figure callout to view corresponding image.\n",
      "© RSNA, 2024 \n",
      "Supplemental material is available for this article.Fleischner Society: Glossary of Terms for Thoracic Imaging\n",
      "Alexander A. Bankier, MD, PhD • Heber MacMahon, MB, BCh  • Thomas Colby, MD  •  \n",
      "Pierre Alain Gevenois, MD, PhD • Jin Mo Goo, MD, PhD • Ann N.C. Leung, MD •  \n",
      "David A. Lynch, MB, BCh • Cornelia M. Schaefer-Prokop, MD • Noriyuki Tomiyama, MD, PhD •  \n",
      "William D. Travis, MD • Johny A. Verschakelen, MD, PhD • Charles S. White, MD • David P . Naidich, MD\n",
      "From the Dept of Radiology, University of Massachusetts Memorial Health and University of Massachusetts Chan Medical School, 55 Lake Ave N, Worcester, MA 01655 \n",
      "(A.A.B.); Dept of Radiology, University of Chicago, Chicago, Ill (H.M.); Dept of Pathology, Mayo Clinic Scottsdale, Scottsdale, Ariz (T.C.); Dept of Pulmonology, \n",
      "Université Libre de Bruxelles, Brussels, Belgium (P .A.G.); Dept of Radiology, Seoul National University Hospital, Seoul, Korea (J.M.G.); Center for Academic Medicine, \n",
      "Dept of Radiology, Stanford University, Palo Alto, Calif (A.N.C.L.); Dept of Radiology, National Jewish Medical and Research Center, Denver, Colo (D.A.L.); Dept \n",
      "of Radiology, Meander Medical Centre Amersfoort, Amersfoort, the Netherlands (C.M.S.P .); Dept of Radiology, Osaka University Graduate School of Medicine, Suita, \n",
      "Japan (N.T.); Dept of Pathology, Memorial Sloan Kettering Cancer Center, New York, NY (W.D.T.); Dept of Radiology, Catholic University Leuven, University Hospital \n",
      "Gasthuisberg, Leuven, Belgium (J.A.V.); Dept of Diagnostic Radiology, University of Maryland Hospital, Baltimore, Md (C.S.W.); and Dept of Radiology, NYU Langone \n",
      "Medical Center/Tisch Hospital, New York, NY (D.P .N.). Received October 25, 2023; revision requested November 3; final revision received January 17, 2024; accepted \n",
      "January 31. Address correspondence to A.A.B. (email: alexander.bankier@umassmemorial.org).\n",
      "Conflicts of interest are listed at the end of this article.\n",
      "See also the editorial by Adusumilli in the March 2024 issue.\n",
      "See also the editorial by Bhalla in the February 2024 issue.\n",
      "See also the editorial by Hariri et al in the March 2024 issue.\n",
      "See also the editorial by Powell in the February 2024 issue.\n",
      "Radiology 2024; 310(2):232558  •  https://doi.org/10.1148/radiol.232558  •  Content code: \n",
      "\n",
      "Fleischner Society: Glossary of Terms for Thoracic Imaging2 radiology.rsna.org   ■ Radiology: Volume 3 10: Number 2—February 2024\n",
      "as pathology do not necessarily faithfully reflect definitions used \n",
      "by pathologists. Some terms are labeled as descriptors to differ-\n",
      "entiate them from terms that imply a radiologic diagnosis. Terms \n",
      "described elsewhere are cross-referenced by an asterisk (*).\n",
      "Third, the glossary includes images for virtually all terms, and \n",
      "we hope that this will increase its practical value. While images \n",
      "were chosen to be typical for a given term, they are merely ex-\n",
      "amples and do not represent the full range of possible imaging \n",
      "appearances, which may be found in the references of this glos-\n",
      "sary and in comprehensive textbooks.\n",
      "We hope that this fourth edition of the Fleischner Society \n",
      "Glossary of Terms for Thoracic Imaging will be helpful for both \n",
      "radiologists and the respiratory medicine community at large. \n",
      "Because terminology is evolving, the provided definitions should \n",
      "be understood as a consensus proposal rather than strict rules. It \n",
      "is anticipated that systematic evaluations of the utilization of this \n",
      "glossary will be undertaken.\n",
      "Acinus (Pl. Acini) (Anatomy)\n",
      "The acinus is a structural unit of the lung distal to the terminal \n",
      "bronchiole* and is supplied by a first-order respiratory bronchi-\n",
      "ole, with a diameter of approximately 4-8 mm. The secondary \n",
      "pulmonary lobule* contains between three and 25 acini. Within \n",
      "the acinus, all parts are involved in gas exchange (ie, they contain \n",
      "alveoli). The acinus consists of respiratory bronchioles, alveolar \n",
      "ducts, and alveoli. Normal acini are not visible radiologically but \n",
      "the accumulation of pathologic material within acini may be \n",
      "seen as small ill-defined rounded opacities (opacity*), sometimes \n",
      "called “air space nodules” (9,10).\n",
      "Air Bronchogram (Pathology) [Descriptor] (Fig 1)\n",
      "Air bronchogram is the descriptive term for air-filled airways* \n",
      "within lung parenchyma* that is partially or completely air-\n",
      "less. The term implies (a) patency of proximal airways, and (b) \n",
      "evacuation of alveolar air by means of absorption (eg, in atelec-\n",
      "tasis*) or replacement (eg, fluid, tumor), or a combination of \n",
      "these processes (11).\n",
      "Air Crescent (Pathology) [Descriptor] (Figs 2, 3)\n",
      "Air crescent is the descriptive term for a crescent-shaped air \n",
      "collection between the wall of a cavity* and a mass* within \n",
      "the cavity. It is often associated with the retraction of infarcted \n",
      "lung parenchyma* in angio-invasive aspergillosis or with the \n",
      "colonization of preexisting cavities by Aspergillus or other \n",
      "fungi. In the latter case, the resulting fungus ball* may be mo-\n",
      "bile and change position with changes in the patient’s position. \n",
      "Air crescents can also occur due to necrotic tissue or a blood \n",
      "clot within a cavity* (12,13).\n",
      "Air Trapping (Physiology/Pathology) (Fig 4)\n",
      "Air trapping is the retention of air in lung parenchyma* distal \n",
      "to more proximal obstruction of one or several airways*. Air \n",
      "trapping (also “gas trapping”) is seen at CT performed during \n",
      "or at the end of expiration. It is characterized by (a) a less-\n",
      "than-normal increase in attenuation and (b) a less-than-normal \n",
      "decrease in volume on expiration. Air trapping should only be called on expiratory CT examinations (14). Of note, areas of \n",
      "air trapping are typically sharply marginated, however distinc-\n",
      "tion between air trapping and decreased attenuation due to \n",
      "vascular occlusion, for example in chronic thromboembolic \n",
      "disease, may be difficult (15,16). Air trapping is also frequently \n",
      "associated with decreased focal perfusion (eg, caused by reac-\n",
      "tive vasoconstriction) (17–19).\n",
      "Airspace (Anatomy)\n",
      "An airspace is the air- or gas-containing part of the lung paren-\n",
      "chyma*, including the respiratory bronchioles (bronchiole*), \n",
      "alveolar ducts, and alveoli, but excluding purely conductive air-\n",
      "ways* such as terminal bronchioles. The term is used in conjunc-\n",
      "tion with opacity* and nodule* to designate the accumulation of \n",
      "material within airspaces (20).\n",
      "Airways (Anatomy)\n",
      "The airways are structural parts of the respiratory system that al-\n",
      "low airflow. Conducting airways extend from the nares and buccal \n",
      "opening to the terminal bronchioles (bronchiole*). Large airways \n",
      "include the cervical and thoracic part of the trachea, as well as \n",
      "the main, lobar, and segmental bronchi. Small airways include the \n",
      "subsegmental bronchi to bronchioles with an internal diameter of \n",
      "less than 2 mm. Diseases of the central airways can often be visual-\n",
      "ized directly at CT, whereas diseases of the peripheral airways often \n",
      "manifest through indirect changes (eg, air trapping*) (21–23).\n",
      "Anatomic Distribution (Anatomy) (Figs 5–25)\n",
      "• Bronchocentric: adjacent to or involving the bronchi in \n",
      "the axial interstitium* (Fig 5).\n",
      "• Centrilobular: centered on the core structures of the sec-\n",
      "ondary pulmonary lobule* (Figs 6, 7). Often used to \n",
      "describe the distribution of nodules (nodule*) or mi-\n",
      "cronodules (micronodule*).\n",
      "• Diffuse: distributed throughout a lobe* or lobes without \n",
      "particular regional predominance, for example be-\n",
      "tween central and peripheral parts of the lung (Fig 8).\n",
      "• Endobronchial: located within the lumen of a bronchus \n",
      "(Figs 9, 10).\n",
      "• Extrapleural: external to the pleura, without directly in-\n",
      "volving the pleura* or the pleural space (Fig 11).\n",
      "• Fissural: refers to a lesion or disease that arises from or in-\n",
      "volves the fissure* (Fig 12). A lesion or disease that has \n",
      "direct contact with the fissure*, but does not arise from \n",
      "it, should be called “perifissural.”\n",
      "• Focal: confined to one distinct area (Fig 13).\n",
      "• Geographic: distributed in a manner resembling the out-\n",
      "line of regions on a map. The term implies well-defined \n",
      "margins between areas of differing attenuation (Fig 14).\n"
     ]
    }
   ],
   "source": [
    "## Example content\n",
    "for line in [doc.page_content for doc in docs[0:2]]:\n",
    "    print(line)"
   ]
  },
  {
   "cell_type": "markdown",
   "metadata": {},
   "source": [
    "## Split & Index"
   ]
  },
  {
   "cell_type": "markdown",
   "metadata": {},
   "source": [
    "#### Chroma"
   ]
  },
  {
   "cell_type": "code",
   "execution_count": 9,
   "metadata": {},
   "outputs": [],
   "source": [
    "text_splitter = RecursiveCharacterTextSplitter(chunk_size=1000, chunk_overlap=200)\n",
    "splits = text_splitter.split_documents(docs)\n",
    "\n",
    "vectorstore = Chroma.from_documents(documents=splits, \n",
    "                                    embedding=OpenAIEmbeddings(),\n",
    "                                    # Save\n",
    "                                    persist_directory=\"db2\")"
   ]
  },
  {
   "cell_type": "code",
   "execution_count": 47,
   "metadata": {},
   "outputs": [
    {
     "data": {
      "text/plain": [
       "<langchain_chroma.vectorstores.Chroma at 0x16a040f10>"
      ]
     },
     "execution_count": 47,
     "metadata": {},
     "output_type": "execute_result"
    }
   ],
   "source": [
    "# Now we can load the persisted database from disk, and use it as normal. \n",
    "vectorstore = Chroma(persist_directory=\"db2\", embedding_function=OpenAIEmbeddings())\n",
    "vectorstore"
   ]
  },
  {
   "cell_type": "code",
   "execution_count": 48,
   "metadata": {},
   "outputs": [
    {
     "data": {
      "text/plain": [
       "VectorStoreRetriever(tags=['Chroma', 'OpenAIEmbeddings'], vectorstore=<langchain_chroma.vectorstores.Chroma object at 0x16a040f10>)"
      ]
     },
     "execution_count": 48,
     "metadata": {},
     "output_type": "execute_result"
    }
   ],
   "source": [
    "retriever = vectorstore.as_retriever()\n",
    "retriever"
   ]
  },
  {
   "cell_type": "markdown",
   "metadata": {},
   "source": [
    "### Grobid\n",
    "\n",
    "<https://python.langchain.com/v0.2/docs/integrations/document_loaders/grobid/>"
   ]
  },
  {
   "cell_type": "code",
   "execution_count": 1,
   "metadata": {},
   "outputs": [],
   "source": [
    "from langchain_community.document_loaders.generic import GenericLoader\n",
    "from langchain_community.document_loaders.parsers import GrobidParser"
   ]
  },
  {
   "cell_type": "code",
   "execution_count": 3,
   "metadata": {},
   "outputs": [
    {
     "name": "stderr",
     "output_type": "stream",
     "text": [
      "GROBID server does not appear up and running,                 please ensure Grobid is installed and the server is running\n"
     ]
    },
    {
     "ename": "ServerUnavailableException",
     "evalue": "",
     "output_type": "error",
     "traceback": [
      "\u001b[0;31m---------------------------------------------------------------------------\u001b[0m",
      "\u001b[0;31mConnectionRefusedError\u001b[0m                    Traceback (most recent call last)",
      "File \u001b[0;32m~/.pyenv/versions/3.10.10/lib/python3.10/site-packages/urllib3/connection.py:198\u001b[0m, in \u001b[0;36mHTTPConnection._new_conn\u001b[0;34m(self)\u001b[0m\n\u001b[1;32m    197\u001b[0m \u001b[38;5;28;01mtry\u001b[39;00m:\n\u001b[0;32m--> 198\u001b[0m     sock \u001b[38;5;241m=\u001b[39m \u001b[43mconnection\u001b[49m\u001b[38;5;241;43m.\u001b[39;49m\u001b[43mcreate_connection\u001b[49m\u001b[43m(\u001b[49m\n\u001b[1;32m    199\u001b[0m \u001b[43m        \u001b[49m\u001b[43m(\u001b[49m\u001b[38;5;28;43mself\u001b[39;49m\u001b[38;5;241;43m.\u001b[39;49m\u001b[43m_dns_host\u001b[49m\u001b[43m,\u001b[49m\u001b[43m \u001b[49m\u001b[38;5;28;43mself\u001b[39;49m\u001b[38;5;241;43m.\u001b[39;49m\u001b[43mport\u001b[49m\u001b[43m)\u001b[49m\u001b[43m,\u001b[49m\n\u001b[1;32m    200\u001b[0m \u001b[43m        \u001b[49m\u001b[38;5;28;43mself\u001b[39;49m\u001b[38;5;241;43m.\u001b[39;49m\u001b[43mtimeout\u001b[49m\u001b[43m,\u001b[49m\n\u001b[1;32m    201\u001b[0m \u001b[43m        \u001b[49m\u001b[43msource_address\u001b[49m\u001b[38;5;241;43m=\u001b[39;49m\u001b[38;5;28;43mself\u001b[39;49m\u001b[38;5;241;43m.\u001b[39;49m\u001b[43msource_address\u001b[49m\u001b[43m,\u001b[49m\n\u001b[1;32m    202\u001b[0m \u001b[43m        \u001b[49m\u001b[43msocket_options\u001b[49m\u001b[38;5;241;43m=\u001b[39;49m\u001b[38;5;28;43mself\u001b[39;49m\u001b[38;5;241;43m.\u001b[39;49m\u001b[43msocket_options\u001b[49m\u001b[43m,\u001b[49m\n\u001b[1;32m    203\u001b[0m \u001b[43m    \u001b[49m\u001b[43m)\u001b[49m\n\u001b[1;32m    204\u001b[0m \u001b[38;5;28;01mexcept\u001b[39;00m socket\u001b[38;5;241m.\u001b[39mgaierror \u001b[38;5;28;01mas\u001b[39;00m e:\n",
      "File \u001b[0;32m~/.pyenv/versions/3.10.10/lib/python3.10/site-packages/urllib3/util/connection.py:85\u001b[0m, in \u001b[0;36mcreate_connection\u001b[0;34m(address, timeout, source_address, socket_options)\u001b[0m\n\u001b[1;32m     84\u001b[0m \u001b[38;5;28;01mtry\u001b[39;00m:\n\u001b[0;32m---> 85\u001b[0m     \u001b[38;5;28;01mraise\u001b[39;00m err\n\u001b[1;32m     86\u001b[0m \u001b[38;5;28;01mfinally\u001b[39;00m:\n\u001b[1;32m     87\u001b[0m     \u001b[38;5;66;03m# Break explicitly a reference cycle\u001b[39;00m\n",
      "File \u001b[0;32m~/.pyenv/versions/3.10.10/lib/python3.10/site-packages/urllib3/util/connection.py:73\u001b[0m, in \u001b[0;36mcreate_connection\u001b[0;34m(address, timeout, source_address, socket_options)\u001b[0m\n\u001b[1;32m     72\u001b[0m     sock\u001b[38;5;241m.\u001b[39mbind(source_address)\n\u001b[0;32m---> 73\u001b[0m \u001b[43msock\u001b[49m\u001b[38;5;241;43m.\u001b[39;49m\u001b[43mconnect\u001b[49m\u001b[43m(\u001b[49m\u001b[43msa\u001b[49m\u001b[43m)\u001b[49m\n\u001b[1;32m     74\u001b[0m \u001b[38;5;66;03m# Break explicitly a reference cycle\u001b[39;00m\n",
      "\u001b[0;31mConnectionRefusedError\u001b[0m: [Errno 61] Connection refused",
      "\nThe above exception was the direct cause of the following exception:\n",
      "\u001b[0;31mNewConnectionError\u001b[0m                        Traceback (most recent call last)",
      "File \u001b[0;32m~/.pyenv/versions/3.10.10/lib/python3.10/site-packages/urllib3/connectionpool.py:793\u001b[0m, in \u001b[0;36mHTTPConnectionPool.urlopen\u001b[0;34m(self, method, url, body, headers, retries, redirect, assert_same_host, timeout, pool_timeout, release_conn, chunked, body_pos, preload_content, decode_content, **response_kw)\u001b[0m\n\u001b[1;32m    792\u001b[0m \u001b[38;5;66;03m# Make the request on the HTTPConnection object\u001b[39;00m\n\u001b[0;32m--> 793\u001b[0m response \u001b[38;5;241m=\u001b[39m \u001b[38;5;28;43mself\u001b[39;49m\u001b[38;5;241;43m.\u001b[39;49m\u001b[43m_make_request\u001b[49m\u001b[43m(\u001b[49m\n\u001b[1;32m    794\u001b[0m \u001b[43m    \u001b[49m\u001b[43mconn\u001b[49m\u001b[43m,\u001b[49m\n\u001b[1;32m    795\u001b[0m \u001b[43m    \u001b[49m\u001b[43mmethod\u001b[49m\u001b[43m,\u001b[49m\n\u001b[1;32m    796\u001b[0m \u001b[43m    \u001b[49m\u001b[43murl\u001b[49m\u001b[43m,\u001b[49m\n\u001b[1;32m    797\u001b[0m \u001b[43m    \u001b[49m\u001b[43mtimeout\u001b[49m\u001b[38;5;241;43m=\u001b[39;49m\u001b[43mtimeout_obj\u001b[49m\u001b[43m,\u001b[49m\n\u001b[1;32m    798\u001b[0m \u001b[43m    \u001b[49m\u001b[43mbody\u001b[49m\u001b[38;5;241;43m=\u001b[39;49m\u001b[43mbody\u001b[49m\u001b[43m,\u001b[49m\n\u001b[1;32m    799\u001b[0m \u001b[43m    \u001b[49m\u001b[43mheaders\u001b[49m\u001b[38;5;241;43m=\u001b[39;49m\u001b[43mheaders\u001b[49m\u001b[43m,\u001b[49m\n\u001b[1;32m    800\u001b[0m \u001b[43m    \u001b[49m\u001b[43mchunked\u001b[49m\u001b[38;5;241;43m=\u001b[39;49m\u001b[43mchunked\u001b[49m\u001b[43m,\u001b[49m\n\u001b[1;32m    801\u001b[0m \u001b[43m    \u001b[49m\u001b[43mretries\u001b[49m\u001b[38;5;241;43m=\u001b[39;49m\u001b[43mretries\u001b[49m\u001b[43m,\u001b[49m\n\u001b[1;32m    802\u001b[0m \u001b[43m    \u001b[49m\u001b[43mresponse_conn\u001b[49m\u001b[38;5;241;43m=\u001b[39;49m\u001b[43mresponse_conn\u001b[49m\u001b[43m,\u001b[49m\n\u001b[1;32m    803\u001b[0m \u001b[43m    \u001b[49m\u001b[43mpreload_content\u001b[49m\u001b[38;5;241;43m=\u001b[39;49m\u001b[43mpreload_content\u001b[49m\u001b[43m,\u001b[49m\n\u001b[1;32m    804\u001b[0m \u001b[43m    \u001b[49m\u001b[43mdecode_content\u001b[49m\u001b[38;5;241;43m=\u001b[39;49m\u001b[43mdecode_content\u001b[49m\u001b[43m,\u001b[49m\n\u001b[1;32m    805\u001b[0m \u001b[43m    \u001b[49m\u001b[38;5;241;43m*\u001b[39;49m\u001b[38;5;241;43m*\u001b[39;49m\u001b[43mresponse_kw\u001b[49m\u001b[43m,\u001b[49m\n\u001b[1;32m    806\u001b[0m \u001b[43m\u001b[49m\u001b[43m)\u001b[49m\n\u001b[1;32m    808\u001b[0m \u001b[38;5;66;03m# Everything went great!\u001b[39;00m\n",
      "File \u001b[0;32m~/.pyenv/versions/3.10.10/lib/python3.10/site-packages/urllib3/connectionpool.py:496\u001b[0m, in \u001b[0;36mHTTPConnectionPool._make_request\u001b[0;34m(self, conn, method, url, body, headers, retries, timeout, chunked, response_conn, preload_content, decode_content, enforce_content_length)\u001b[0m\n\u001b[1;32m    495\u001b[0m \u001b[38;5;28;01mtry\u001b[39;00m:\n\u001b[0;32m--> 496\u001b[0m     \u001b[43mconn\u001b[49m\u001b[38;5;241;43m.\u001b[39;49m\u001b[43mrequest\u001b[49m\u001b[43m(\u001b[49m\n\u001b[1;32m    497\u001b[0m \u001b[43m        \u001b[49m\u001b[43mmethod\u001b[49m\u001b[43m,\u001b[49m\n\u001b[1;32m    498\u001b[0m \u001b[43m        \u001b[49m\u001b[43murl\u001b[49m\u001b[43m,\u001b[49m\n\u001b[1;32m    499\u001b[0m \u001b[43m        \u001b[49m\u001b[43mbody\u001b[49m\u001b[38;5;241;43m=\u001b[39;49m\u001b[43mbody\u001b[49m\u001b[43m,\u001b[49m\n\u001b[1;32m    500\u001b[0m \u001b[43m        \u001b[49m\u001b[43mheaders\u001b[49m\u001b[38;5;241;43m=\u001b[39;49m\u001b[43mheaders\u001b[49m\u001b[43m,\u001b[49m\n\u001b[1;32m    501\u001b[0m \u001b[43m        \u001b[49m\u001b[43mchunked\u001b[49m\u001b[38;5;241;43m=\u001b[39;49m\u001b[43mchunked\u001b[49m\u001b[43m,\u001b[49m\n\u001b[1;32m    502\u001b[0m \u001b[43m        \u001b[49m\u001b[43mpreload_content\u001b[49m\u001b[38;5;241;43m=\u001b[39;49m\u001b[43mpreload_content\u001b[49m\u001b[43m,\u001b[49m\n\u001b[1;32m    503\u001b[0m \u001b[43m        \u001b[49m\u001b[43mdecode_content\u001b[49m\u001b[38;5;241;43m=\u001b[39;49m\u001b[43mdecode_content\u001b[49m\u001b[43m,\u001b[49m\n\u001b[1;32m    504\u001b[0m \u001b[43m        \u001b[49m\u001b[43menforce_content_length\u001b[49m\u001b[38;5;241;43m=\u001b[39;49m\u001b[43menforce_content_length\u001b[49m\u001b[43m,\u001b[49m\n\u001b[1;32m    505\u001b[0m \u001b[43m    \u001b[49m\u001b[43m)\u001b[49m\n\u001b[1;32m    507\u001b[0m \u001b[38;5;66;03m# We are swallowing BrokenPipeError (errno.EPIPE) since the server is\u001b[39;00m\n\u001b[1;32m    508\u001b[0m \u001b[38;5;66;03m# legitimately able to close the connection after sending a valid response.\u001b[39;00m\n\u001b[1;32m    509\u001b[0m \u001b[38;5;66;03m# With this behaviour, the received response is still readable.\u001b[39;00m\n",
      "File \u001b[0;32m~/.pyenv/versions/3.10.10/lib/python3.10/site-packages/urllib3/connection.py:400\u001b[0m, in \u001b[0;36mHTTPConnection.request\u001b[0;34m(self, method, url, body, headers, chunked, preload_content, decode_content, enforce_content_length)\u001b[0m\n\u001b[1;32m    399\u001b[0m     \u001b[38;5;28mself\u001b[39m\u001b[38;5;241m.\u001b[39mputheader(header, value)\n\u001b[0;32m--> 400\u001b[0m \u001b[38;5;28;43mself\u001b[39;49m\u001b[38;5;241;43m.\u001b[39;49m\u001b[43mendheaders\u001b[49m\u001b[43m(\u001b[49m\u001b[43m)\u001b[49m\n\u001b[1;32m    402\u001b[0m \u001b[38;5;66;03m# If we're given a body we start sending that in chunks.\u001b[39;00m\n",
      "File \u001b[0;32m~/.pyenv/versions/3.10.10/lib/python3.10/http/client.py:1277\u001b[0m, in \u001b[0;36mHTTPConnection.endheaders\u001b[0;34m(self, message_body, encode_chunked)\u001b[0m\n\u001b[1;32m   1276\u001b[0m     \u001b[38;5;28;01mraise\u001b[39;00m CannotSendHeader()\n\u001b[0;32m-> 1277\u001b[0m \u001b[38;5;28;43mself\u001b[39;49m\u001b[38;5;241;43m.\u001b[39;49m\u001b[43m_send_output\u001b[49m\u001b[43m(\u001b[49m\u001b[43mmessage_body\u001b[49m\u001b[43m,\u001b[49m\u001b[43m \u001b[49m\u001b[43mencode_chunked\u001b[49m\u001b[38;5;241;43m=\u001b[39;49m\u001b[43mencode_chunked\u001b[49m\u001b[43m)\u001b[49m\n",
      "File \u001b[0;32m~/.pyenv/versions/3.10.10/lib/python3.10/http/client.py:1037\u001b[0m, in \u001b[0;36mHTTPConnection._send_output\u001b[0;34m(self, message_body, encode_chunked)\u001b[0m\n\u001b[1;32m   1036\u001b[0m \u001b[38;5;28;01mdel\u001b[39;00m \u001b[38;5;28mself\u001b[39m\u001b[38;5;241m.\u001b[39m_buffer[:]\n\u001b[0;32m-> 1037\u001b[0m \u001b[38;5;28;43mself\u001b[39;49m\u001b[38;5;241;43m.\u001b[39;49m\u001b[43msend\u001b[49m\u001b[43m(\u001b[49m\u001b[43mmsg\u001b[49m\u001b[43m)\u001b[49m\n\u001b[1;32m   1039\u001b[0m \u001b[38;5;28;01mif\u001b[39;00m message_body \u001b[38;5;129;01mis\u001b[39;00m \u001b[38;5;129;01mnot\u001b[39;00m \u001b[38;5;28;01mNone\u001b[39;00m:\n\u001b[1;32m   1040\u001b[0m \n\u001b[1;32m   1041\u001b[0m     \u001b[38;5;66;03m# create a consistent interface to message_body\u001b[39;00m\n",
      "File \u001b[0;32m~/.pyenv/versions/3.10.10/lib/python3.10/http/client.py:975\u001b[0m, in \u001b[0;36mHTTPConnection.send\u001b[0;34m(self, data)\u001b[0m\n\u001b[1;32m    974\u001b[0m \u001b[38;5;28;01mif\u001b[39;00m \u001b[38;5;28mself\u001b[39m\u001b[38;5;241m.\u001b[39mauto_open:\n\u001b[0;32m--> 975\u001b[0m     \u001b[38;5;28;43mself\u001b[39;49m\u001b[38;5;241;43m.\u001b[39;49m\u001b[43mconnect\u001b[49m\u001b[43m(\u001b[49m\u001b[43m)\u001b[49m\n\u001b[1;32m    976\u001b[0m \u001b[38;5;28;01melse\u001b[39;00m:\n",
      "File \u001b[0;32m~/.pyenv/versions/3.10.10/lib/python3.10/site-packages/urllib3/connection.py:238\u001b[0m, in \u001b[0;36mHTTPConnection.connect\u001b[0;34m(self)\u001b[0m\n\u001b[1;32m    237\u001b[0m \u001b[38;5;28;01mdef\u001b[39;00m \u001b[38;5;21mconnect\u001b[39m(\u001b[38;5;28mself\u001b[39m) \u001b[38;5;241m-\u001b[39m\u001b[38;5;241m>\u001b[39m \u001b[38;5;28;01mNone\u001b[39;00m:\n\u001b[0;32m--> 238\u001b[0m     \u001b[38;5;28mself\u001b[39m\u001b[38;5;241m.\u001b[39msock \u001b[38;5;241m=\u001b[39m \u001b[38;5;28;43mself\u001b[39;49m\u001b[38;5;241;43m.\u001b[39;49m\u001b[43m_new_conn\u001b[49m\u001b[43m(\u001b[49m\u001b[43m)\u001b[49m\n\u001b[1;32m    239\u001b[0m     \u001b[38;5;28;01mif\u001b[39;00m \u001b[38;5;28mself\u001b[39m\u001b[38;5;241m.\u001b[39m_tunnel_host:\n\u001b[1;32m    240\u001b[0m         \u001b[38;5;66;03m# If we're tunneling it means we're connected to our proxy.\u001b[39;00m\n",
      "File \u001b[0;32m~/.pyenv/versions/3.10.10/lib/python3.10/site-packages/urllib3/connection.py:213\u001b[0m, in \u001b[0;36mHTTPConnection._new_conn\u001b[0;34m(self)\u001b[0m\n\u001b[1;32m    212\u001b[0m \u001b[38;5;28;01mexcept\u001b[39;00m \u001b[38;5;167;01mOSError\u001b[39;00m \u001b[38;5;28;01mas\u001b[39;00m e:\n\u001b[0;32m--> 213\u001b[0m     \u001b[38;5;28;01mraise\u001b[39;00m NewConnectionError(\n\u001b[1;32m    214\u001b[0m         \u001b[38;5;28mself\u001b[39m, \u001b[38;5;124mf\u001b[39m\u001b[38;5;124m\"\u001b[39m\u001b[38;5;124mFailed to establish a new connection: \u001b[39m\u001b[38;5;132;01m{\u001b[39;00me\u001b[38;5;132;01m}\u001b[39;00m\u001b[38;5;124m\"\u001b[39m\n\u001b[1;32m    215\u001b[0m     ) \u001b[38;5;28;01mfrom\u001b[39;00m \u001b[38;5;21;01me\u001b[39;00m\n\u001b[1;32m    217\u001b[0m \u001b[38;5;66;03m# Audit hooks are only available in Python 3.8+\u001b[39;00m\n",
      "\u001b[0;31mNewConnectionError\u001b[0m: <urllib3.connection.HTTPConnection object at 0x10f372740>: Failed to establish a new connection: [Errno 61] Connection refused",
      "\nThe above exception was the direct cause of the following exception:\n",
      "\u001b[0;31mMaxRetryError\u001b[0m                             Traceback (most recent call last)",
      "File \u001b[0;32m~/.pyenv/versions/3.10.10/lib/python3.10/site-packages/requests/adapters.py:486\u001b[0m, in \u001b[0;36mHTTPAdapter.send\u001b[0;34m(self, request, stream, timeout, verify, cert, proxies)\u001b[0m\n\u001b[1;32m    485\u001b[0m \u001b[38;5;28;01mtry\u001b[39;00m:\n\u001b[0;32m--> 486\u001b[0m     resp \u001b[38;5;241m=\u001b[39m \u001b[43mconn\u001b[49m\u001b[38;5;241;43m.\u001b[39;49m\u001b[43murlopen\u001b[49m\u001b[43m(\u001b[49m\n\u001b[1;32m    487\u001b[0m \u001b[43m        \u001b[49m\u001b[43mmethod\u001b[49m\u001b[38;5;241;43m=\u001b[39;49m\u001b[43mrequest\u001b[49m\u001b[38;5;241;43m.\u001b[39;49m\u001b[43mmethod\u001b[49m\u001b[43m,\u001b[49m\n\u001b[1;32m    488\u001b[0m \u001b[43m        \u001b[49m\u001b[43murl\u001b[49m\u001b[38;5;241;43m=\u001b[39;49m\u001b[43murl\u001b[49m\u001b[43m,\u001b[49m\n\u001b[1;32m    489\u001b[0m \u001b[43m        \u001b[49m\u001b[43mbody\u001b[49m\u001b[38;5;241;43m=\u001b[39;49m\u001b[43mrequest\u001b[49m\u001b[38;5;241;43m.\u001b[39;49m\u001b[43mbody\u001b[49m\u001b[43m,\u001b[49m\n\u001b[1;32m    490\u001b[0m \u001b[43m        \u001b[49m\u001b[43mheaders\u001b[49m\u001b[38;5;241;43m=\u001b[39;49m\u001b[43mrequest\u001b[49m\u001b[38;5;241;43m.\u001b[39;49m\u001b[43mheaders\u001b[49m\u001b[43m,\u001b[49m\n\u001b[1;32m    491\u001b[0m \u001b[43m        \u001b[49m\u001b[43mredirect\u001b[49m\u001b[38;5;241;43m=\u001b[39;49m\u001b[38;5;28;43;01mFalse\u001b[39;49;00m\u001b[43m,\u001b[49m\n\u001b[1;32m    492\u001b[0m \u001b[43m        \u001b[49m\u001b[43massert_same_host\u001b[49m\u001b[38;5;241;43m=\u001b[39;49m\u001b[38;5;28;43;01mFalse\u001b[39;49;00m\u001b[43m,\u001b[49m\n\u001b[1;32m    493\u001b[0m \u001b[43m        \u001b[49m\u001b[43mpreload_content\u001b[49m\u001b[38;5;241;43m=\u001b[39;49m\u001b[38;5;28;43;01mFalse\u001b[39;49;00m\u001b[43m,\u001b[49m\n\u001b[1;32m    494\u001b[0m \u001b[43m        \u001b[49m\u001b[43mdecode_content\u001b[49m\u001b[38;5;241;43m=\u001b[39;49m\u001b[38;5;28;43;01mFalse\u001b[39;49;00m\u001b[43m,\u001b[49m\n\u001b[1;32m    495\u001b[0m \u001b[43m        \u001b[49m\u001b[43mretries\u001b[49m\u001b[38;5;241;43m=\u001b[39;49m\u001b[38;5;28;43mself\u001b[39;49m\u001b[38;5;241;43m.\u001b[39;49m\u001b[43mmax_retries\u001b[49m\u001b[43m,\u001b[49m\n\u001b[1;32m    496\u001b[0m \u001b[43m        \u001b[49m\u001b[43mtimeout\u001b[49m\u001b[38;5;241;43m=\u001b[39;49m\u001b[43mtimeout\u001b[49m\u001b[43m,\u001b[49m\n\u001b[1;32m    497\u001b[0m \u001b[43m        \u001b[49m\u001b[43mchunked\u001b[49m\u001b[38;5;241;43m=\u001b[39;49m\u001b[43mchunked\u001b[49m\u001b[43m,\u001b[49m\n\u001b[1;32m    498\u001b[0m \u001b[43m    \u001b[49m\u001b[43m)\u001b[49m\n\u001b[1;32m    500\u001b[0m \u001b[38;5;28;01mexcept\u001b[39;00m (ProtocolError, \u001b[38;5;167;01mOSError\u001b[39;00m) \u001b[38;5;28;01mas\u001b[39;00m err:\n",
      "File \u001b[0;32m~/.pyenv/versions/3.10.10/lib/python3.10/site-packages/urllib3/connectionpool.py:847\u001b[0m, in \u001b[0;36mHTTPConnectionPool.urlopen\u001b[0;34m(self, method, url, body, headers, retries, redirect, assert_same_host, timeout, pool_timeout, release_conn, chunked, body_pos, preload_content, decode_content, **response_kw)\u001b[0m\n\u001b[1;32m    845\u001b[0m     new_e \u001b[38;5;241m=\u001b[39m ProtocolError(\u001b[38;5;124m\"\u001b[39m\u001b[38;5;124mConnection aborted.\u001b[39m\u001b[38;5;124m\"\u001b[39m, new_e)\n\u001b[0;32m--> 847\u001b[0m retries \u001b[38;5;241m=\u001b[39m \u001b[43mretries\u001b[49m\u001b[38;5;241;43m.\u001b[39;49m\u001b[43mincrement\u001b[49m\u001b[43m(\u001b[49m\n\u001b[1;32m    848\u001b[0m \u001b[43m    \u001b[49m\u001b[43mmethod\u001b[49m\u001b[43m,\u001b[49m\u001b[43m \u001b[49m\u001b[43murl\u001b[49m\u001b[43m,\u001b[49m\u001b[43m \u001b[49m\u001b[43merror\u001b[49m\u001b[38;5;241;43m=\u001b[39;49m\u001b[43mnew_e\u001b[49m\u001b[43m,\u001b[49m\u001b[43m \u001b[49m\u001b[43m_pool\u001b[49m\u001b[38;5;241;43m=\u001b[39;49m\u001b[38;5;28;43mself\u001b[39;49m\u001b[43m,\u001b[49m\u001b[43m \u001b[49m\u001b[43m_stacktrace\u001b[49m\u001b[38;5;241;43m=\u001b[39;49m\u001b[43msys\u001b[49m\u001b[38;5;241;43m.\u001b[39;49m\u001b[43mexc_info\u001b[49m\u001b[43m(\u001b[49m\u001b[43m)\u001b[49m\u001b[43m[\u001b[49m\u001b[38;5;241;43m2\u001b[39;49m\u001b[43m]\u001b[49m\n\u001b[1;32m    849\u001b[0m \u001b[43m\u001b[49m\u001b[43m)\u001b[49m\n\u001b[1;32m    850\u001b[0m retries\u001b[38;5;241m.\u001b[39msleep()\n",
      "File \u001b[0;32m~/.pyenv/versions/3.10.10/lib/python3.10/site-packages/urllib3/util/retry.py:515\u001b[0m, in \u001b[0;36mRetry.increment\u001b[0;34m(self, method, url, response, error, _pool, _stacktrace)\u001b[0m\n\u001b[1;32m    514\u001b[0m     reason \u001b[38;5;241m=\u001b[39m error \u001b[38;5;129;01mor\u001b[39;00m ResponseError(cause)\n\u001b[0;32m--> 515\u001b[0m     \u001b[38;5;28;01mraise\u001b[39;00m MaxRetryError(_pool, url, reason) \u001b[38;5;28;01mfrom\u001b[39;00m \u001b[38;5;21;01mreason\u001b[39;00m  \u001b[38;5;66;03m# type: ignore[arg-type]\u001b[39;00m\n\u001b[1;32m    517\u001b[0m log\u001b[38;5;241m.\u001b[39mdebug(\u001b[38;5;124m\"\u001b[39m\u001b[38;5;124mIncremented Retry for (url=\u001b[39m\u001b[38;5;124m'\u001b[39m\u001b[38;5;132;01m%s\u001b[39;00m\u001b[38;5;124m'\u001b[39m\u001b[38;5;124m): \u001b[39m\u001b[38;5;132;01m%r\u001b[39;00m\u001b[38;5;124m\"\u001b[39m, url, new_retry)\n",
      "\u001b[0;31mMaxRetryError\u001b[0m: HTTPConnectionPool(host='localhost', port=8070): Max retries exceeded with url: /api/processFulltextDocument (Caused by NewConnectionError('<urllib3.connection.HTTPConnection object at 0x10f372740>: Failed to establish a new connection: [Errno 61] Connection refused'))",
      "\nDuring handling of the above exception, another exception occurred:\n",
      "\u001b[0;31mConnectionError\u001b[0m                           Traceback (most recent call last)",
      "File \u001b[0;32m~/.pyenv/versions/3.10.10/lib/python3.10/site-packages/langchain_community/document_loaders/parsers/grobid.py:30\u001b[0m, in \u001b[0;36mGrobidParser.__init__\u001b[0;34m(self, segment_sentences, grobid_server)\u001b[0m\n\u001b[1;32m     29\u001b[0m \u001b[38;5;28;01mtry\u001b[39;00m:\n\u001b[0;32m---> 30\u001b[0m     \u001b[43mrequests\u001b[49m\u001b[38;5;241;43m.\u001b[39;49m\u001b[43mget\u001b[49m\u001b[43m(\u001b[49m\u001b[43mgrobid_server\u001b[49m\u001b[43m)\u001b[49m\n\u001b[1;32m     31\u001b[0m \u001b[38;5;28;01mexcept\u001b[39;00m requests\u001b[38;5;241m.\u001b[39mexceptions\u001b[38;5;241m.\u001b[39mRequestException:\n",
      "File \u001b[0;32m~/.pyenv/versions/3.10.10/lib/python3.10/site-packages/requests/api.py:73\u001b[0m, in \u001b[0;36mget\u001b[0;34m(url, params, **kwargs)\u001b[0m\n\u001b[1;32m     63\u001b[0m \u001b[38;5;250m\u001b[39m\u001b[38;5;124mr\u001b[39m\u001b[38;5;124;03m\"\"\"Sends a GET request.\u001b[39;00m\n\u001b[1;32m     64\u001b[0m \n\u001b[1;32m     65\u001b[0m \u001b[38;5;124;03m:param url: URL for the new :class:`Request` object.\u001b[39;00m\n\u001b[0;32m   (...)\u001b[0m\n\u001b[1;32m     70\u001b[0m \u001b[38;5;124;03m:rtype: requests.Response\u001b[39;00m\n\u001b[1;32m     71\u001b[0m \u001b[38;5;124;03m\"\"\"\u001b[39;00m\n\u001b[0;32m---> 73\u001b[0m \u001b[38;5;28;01mreturn\u001b[39;00m \u001b[43mrequest\u001b[49m\u001b[43m(\u001b[49m\u001b[38;5;124;43m\"\u001b[39;49m\u001b[38;5;124;43mget\u001b[39;49m\u001b[38;5;124;43m\"\u001b[39;49m\u001b[43m,\u001b[49m\u001b[43m \u001b[49m\u001b[43murl\u001b[49m\u001b[43m,\u001b[49m\u001b[43m \u001b[49m\u001b[43mparams\u001b[49m\u001b[38;5;241;43m=\u001b[39;49m\u001b[43mparams\u001b[49m\u001b[43m,\u001b[49m\u001b[43m \u001b[49m\u001b[38;5;241;43m*\u001b[39;49m\u001b[38;5;241;43m*\u001b[39;49m\u001b[43mkwargs\u001b[49m\u001b[43m)\u001b[49m\n",
      "File \u001b[0;32m~/.pyenv/versions/3.10.10/lib/python3.10/site-packages/requests/api.py:59\u001b[0m, in \u001b[0;36mrequest\u001b[0;34m(method, url, **kwargs)\u001b[0m\n\u001b[1;32m     58\u001b[0m \u001b[38;5;28;01mwith\u001b[39;00m sessions\u001b[38;5;241m.\u001b[39mSession() \u001b[38;5;28;01mas\u001b[39;00m session:\n\u001b[0;32m---> 59\u001b[0m     \u001b[38;5;28;01mreturn\u001b[39;00m \u001b[43msession\u001b[49m\u001b[38;5;241;43m.\u001b[39;49m\u001b[43mrequest\u001b[49m\u001b[43m(\u001b[49m\u001b[43mmethod\u001b[49m\u001b[38;5;241;43m=\u001b[39;49m\u001b[43mmethod\u001b[49m\u001b[43m,\u001b[49m\u001b[43m \u001b[49m\u001b[43murl\u001b[49m\u001b[38;5;241;43m=\u001b[39;49m\u001b[43murl\u001b[49m\u001b[43m,\u001b[49m\u001b[43m \u001b[49m\u001b[38;5;241;43m*\u001b[39;49m\u001b[38;5;241;43m*\u001b[39;49m\u001b[43mkwargs\u001b[49m\u001b[43m)\u001b[49m\n",
      "File \u001b[0;32m~/.pyenv/versions/3.10.10/lib/python3.10/site-packages/requests/sessions.py:589\u001b[0m, in \u001b[0;36mSession.request\u001b[0;34m(self, method, url, params, data, headers, cookies, files, auth, timeout, allow_redirects, proxies, hooks, stream, verify, cert, json)\u001b[0m\n\u001b[1;32m    588\u001b[0m send_kwargs\u001b[38;5;241m.\u001b[39mupdate(settings)\n\u001b[0;32m--> 589\u001b[0m resp \u001b[38;5;241m=\u001b[39m \u001b[38;5;28;43mself\u001b[39;49m\u001b[38;5;241;43m.\u001b[39;49m\u001b[43msend\u001b[49m\u001b[43m(\u001b[49m\u001b[43mprep\u001b[49m\u001b[43m,\u001b[49m\u001b[43m \u001b[49m\u001b[38;5;241;43m*\u001b[39;49m\u001b[38;5;241;43m*\u001b[39;49m\u001b[43msend_kwargs\u001b[49m\u001b[43m)\u001b[49m\n\u001b[1;32m    591\u001b[0m \u001b[38;5;28;01mreturn\u001b[39;00m resp\n",
      "File \u001b[0;32m~/.pyenv/versions/3.10.10/lib/python3.10/site-packages/requests/sessions.py:703\u001b[0m, in \u001b[0;36mSession.send\u001b[0;34m(self, request, **kwargs)\u001b[0m\n\u001b[1;32m    702\u001b[0m \u001b[38;5;66;03m# Send the request\u001b[39;00m\n\u001b[0;32m--> 703\u001b[0m r \u001b[38;5;241m=\u001b[39m \u001b[43madapter\u001b[49m\u001b[38;5;241;43m.\u001b[39;49m\u001b[43msend\u001b[49m\u001b[43m(\u001b[49m\u001b[43mrequest\u001b[49m\u001b[43m,\u001b[49m\u001b[43m \u001b[49m\u001b[38;5;241;43m*\u001b[39;49m\u001b[38;5;241;43m*\u001b[39;49m\u001b[43mkwargs\u001b[49m\u001b[43m)\u001b[49m\n\u001b[1;32m    705\u001b[0m \u001b[38;5;66;03m# Total elapsed time of the request (approximately)\u001b[39;00m\n",
      "File \u001b[0;32m~/.pyenv/versions/3.10.10/lib/python3.10/site-packages/requests/adapters.py:519\u001b[0m, in \u001b[0;36mHTTPAdapter.send\u001b[0;34m(self, request, stream, timeout, verify, cert, proxies)\u001b[0m\n\u001b[1;32m    517\u001b[0m         \u001b[38;5;28;01mraise\u001b[39;00m SSLError(e, request\u001b[38;5;241m=\u001b[39mrequest)\n\u001b[0;32m--> 519\u001b[0m     \u001b[38;5;28;01mraise\u001b[39;00m \u001b[38;5;167;01mConnectionError\u001b[39;00m(e, request\u001b[38;5;241m=\u001b[39mrequest)\n\u001b[1;32m    521\u001b[0m \u001b[38;5;28;01mexcept\u001b[39;00m ClosedPoolError \u001b[38;5;28;01mas\u001b[39;00m e:\n",
      "\u001b[0;31mConnectionError\u001b[0m: HTTPConnectionPool(host='localhost', port=8070): Max retries exceeded with url: /api/processFulltextDocument (Caused by NewConnectionError('<urllib3.connection.HTTPConnection object at 0x10f372740>: Failed to establish a new connection: [Errno 61] Connection refused'))",
      "\nDuring handling of the above exception, another exception occurred:\n",
      "\u001b[0;31mServerUnavailableException\u001b[0m                Traceback (most recent call last)",
      "Cell \u001b[0;32mIn[3], line 3\u001b[0m\n\u001b[1;32m      1\u001b[0m loader \u001b[38;5;241m=\u001b[39m GenericLoader\u001b[38;5;241m.\u001b[39mfrom_filesystem(\n\u001b[1;32m      2\u001b[0m     \u001b[38;5;124m\"\u001b[39m\u001b[38;5;124mpdf/2024_Fleischner Society_Glossary of Terms for Thoracic Imaging.pdf\u001b[39m\u001b[38;5;124m\"\u001b[39m,\n\u001b[0;32m----> 3\u001b[0m     parser\u001b[38;5;241m=\u001b[39m\u001b[43mGrobidParser\u001b[49m\u001b[43m(\u001b[49m\u001b[43msegment_sentences\u001b[49m\u001b[38;5;241;43m=\u001b[39;49m\u001b[38;5;28;43;01mFalse\u001b[39;49;00m\u001b[43m)\u001b[49m,\n\u001b[1;32m      4\u001b[0m )\n\u001b[1;32m      5\u001b[0m docs_gro \u001b[38;5;241m=\u001b[39m loader\u001b[38;5;241m.\u001b[39mload()\n",
      "File \u001b[0;32m~/.pyenv/versions/3.10.10/lib/python3.10/site-packages/langchain_community/document_loaders/parsers/grobid.py:36\u001b[0m, in \u001b[0;36mGrobidParser.__init__\u001b[0;34m(self, segment_sentences, grobid_server)\u001b[0m\n\u001b[1;32m     31\u001b[0m \u001b[38;5;28;01mexcept\u001b[39;00m requests\u001b[38;5;241m.\u001b[39mexceptions\u001b[38;5;241m.\u001b[39mRequestException:\n\u001b[1;32m     32\u001b[0m     logger\u001b[38;5;241m.\u001b[39merror(\n\u001b[1;32m     33\u001b[0m         \u001b[38;5;124m\"\u001b[39m\u001b[38;5;124mGROBID server does not appear up and running, \u001b[39m\u001b[38;5;130;01m\\\u001b[39;00m\n\u001b[1;32m     34\u001b[0m \u001b[38;5;124m        please ensure Grobid is installed and the server is running\u001b[39m\u001b[38;5;124m\"\u001b[39m\n\u001b[1;32m     35\u001b[0m     )\n\u001b[0;32m---> 36\u001b[0m     \u001b[38;5;28;01mraise\u001b[39;00m ServerUnavailableException\n",
      "\u001b[0;31mServerUnavailableException\u001b[0m: "
     ]
    }
   ],
   "source": [
    "loader = GenericLoader.from_filesystem(\n",
    "    \"pdf/2024_Fleischner Society_Glossary of Terms for Thoracic Imaging.pdf\",\n",
    "    parser=GrobidParser(segment_sentences=False),\n",
    ")\n",
    "docs_gro = loader.load()"
   ]
  },
  {
   "cell_type": "markdown",
   "metadata": {},
   "source": [
    "## Prompt"
   ]
  },
  {
   "cell_type": "code",
   "execution_count": 16,
   "metadata": {},
   "outputs": [],
   "source": [
    "# set the LANGCHAIN_API_KEY environment variable (create key in settings)\n",
    "from langchain import hub\n",
    "prompt = hub.pull(\"rlm/rag-prompt\")"
   ]
  },
  {
   "cell_type": "code",
   "execution_count": 38,
   "metadata": {},
   "outputs": [
    {
     "data": {
      "text/plain": [
       "ChatPromptValue(messages=[SystemMessage(content=\"You are an assistant for question-answering tasks. Use the following pieces of retrieved context to answer the question. If you don't know the answer, just say that you don't know. Format your answer as headings, bullets, or numbering as appropriate. Keep the answer concise.\\nContext: C\\n\"), HumanMessage(content='Hi')])"
      ]
     },
     "execution_count": 38,
     "metadata": {},
     "output_type": "execute_result"
    }
   ],
   "source": [
    "from langchain.chains import create_retrieval_chain\n",
    "from langchain.chains.combine_documents import create_stuff_documents_chain\n",
    "from langchain_core.prompts import ChatPromptTemplate\n",
    "\n",
    "\n",
    "system_prompt = \"\"\"You are an assistant for question-answering tasks. Use the following pieces of retrieved context to answer the question. If you don't know the answer, just say that you don't know. Format your answer as headings, bullets, or numbering as appropriate. Keep the answer concise.\n",
    "Context: {context}\n",
    "\"\"\"\n",
    "\n",
    "prompt = ChatPromptTemplate.from_messages(\n",
    "    [\n",
    "        (\"system\", system_prompt),\n",
    "        (\"human\", \"{input}\"),\n",
    "    ]\n",
    ")\n",
    "\n",
    "prompt.invoke({\"context\": \"C\", \"input\": \"Hi\"})\n"
   ]
  },
  {
   "cell_type": "markdown",
   "metadata": {},
   "source": [
    "## Chain"
   ]
  },
  {
   "cell_type": "code",
   "execution_count": 39,
   "metadata": {},
   "outputs": [
    {
     "data": {
      "text/plain": [
       "RunnableBinding(bound=RunnableBinding(bound=RunnableAssign(mapper={\n",
       "  context: RunnableLambda(format_docs)\n",
       "}), config={'run_name': 'format_inputs'})\n",
       "| ChatPromptTemplate(input_variables=['context', 'input'], messages=[SystemMessagePromptTemplate(prompt=PromptTemplate(input_variables=['context'], template=\"You are an assistant for question-answering tasks. Use the following pieces of retrieved context to answer the question. If you don't know the answer, just say that you don't know. Format your answer as headings, bullets, or numbering as appropriate. Keep the answer concise.\\nContext: {context}\\n\")), HumanMessagePromptTemplate(prompt=PromptTemplate(input_variables=['input'], template='{input}'))])\n",
       "| ChatOpenAI(client=<openai.resources.chat.completions.Completions object at 0x1204f1210>, async_client=<openai.resources.chat.completions.AsyncCompletions object at 0x1204f2fe0>, model_name='gpt-4o', openai_api_key=SecretStr('**********'), openai_proxy='')\n",
       "| StrOutputParser(), config={'run_name': 'stuff_documents_chain'})"
      ]
     },
     "execution_count": 39,
     "metadata": {},
     "output_type": "execute_result"
    }
   ],
   "source": [
    "question_answer_chain = create_stuff_documents_chain(llm, prompt)\n",
    "question_answer_chain"
   ]
  },
  {
   "cell_type": "markdown",
   "metadata": {},
   "source": [
    "## Execute"
   ]
  },
  {
   "cell_type": "code",
   "execution_count": 49,
   "metadata": {},
   "outputs": [
    {
     "data": {
      "text/plain": [
       "{'input': 'What is Architectural distortion?',\n",
       " 'context': [Document(metadata={'page': 21, 'source': 'pdf/2024_Fleischner Society_Glossary of Terms for Thoracic Imaging.pdf'}, page_content='Fleischner Society: Glossary of Terms for Thoracic Imaging22 radiology.rsna.org \\u2002 ■\\u2002Radiology: Volume 3 10: Number 2—February 2024\\nFigure 26: Aortopulmonary window: (A) Frontal chest \\nradiograph and (B) coronal CT image reconstruction in the \\nsame patient show aortopulmonary window (arrow).\\nclick to return to page 3\\nFigure 27: Apical cap: (A) Frontal chest radiograph and (B)  \\ncoronal CT image reconstruction in the same patient show bilateral \\napical caps (arrows).\\nclick to return to page 3\\nFigure 28: Architectural distortion: Transverse CT images of the (A, B) right and (C) left lung of three different patients show traction bronchiectasis (solid \\narrows). Note the presence of coexisting fibrosis and architectural distortion (open arrow in B  and C ). click to return to page 3, page 4'),\n",
       "  Document(metadata={'page': 7, 'source': 'pdf/2024_Fleischner Society_Glossary of Terms for Thoracic Imaging.pdf'}, page_content='micronodules is different from the concept of a micronodular \\npattern*, described elsewhere in the text.\\nMosaic Attenuation (Pathology) (Fig 88)\\nFor the description, see pattern, mosaic*. The mosaic attenu-\\nation CT pattern* can be caused by obliterative small airways \\ndisease*, occlusive vascular disease, multifocal interstitial \\nlung disease*, or by a combination of the above. In oblitera-\\ntive small airways disease and in occlusive vascular disease, \\nthe lower attenuation areas are abnormally hypodense and \\nthe higher attenuation abnormally hyperdense, reflecting dif-\\nferences in vascular perfusion, whereas in multifocal inter-\\nstitial lung disease* the lower attenuation areas are normal \\nand the higher attenuation areas abnormal. Mosaic attenu-\\nation should only be described on CT examinations per-\\nformed in full inspiration. “Mosaic perfusion” refers to the \\nmosaic pattern caused by local variations in lung perfusion'),\n",
       "  Document(metadata={'page': 6, 'source': 'pdf/2024_Fleischner Society_Glossary of Terms for Thoracic Imaging.pdf'}, page_content='Bankier et alRadiology: Volume 3 10: Number 2—February 2024 \\u2002 ■\\u2002radiology.rsna.org 7complete effacement of normal lung architecture and usually \\noccurs with other signs of pulmonary fibrosis*, including trac-\\ntion bronchiolectasis*. Of note, honeycombing can also exist \\nat the microscopic level and does not necessarily reflect the CT \\nappearance of honeycombing (81). Care should be exercised \\nwhen using the term honeycombing, as it implies substantial \\nfibrosis (30,82), and the term should only be used if other signs \\nof fibrosis are present.\\nInfarction (Pathology) (Fig 56)\\nInfarction is the result of parenchymal damage from vascular \\nobstruction or occlusion, caused by either emboli or patho-\\nlogic changes of the vessel wall. At imaging, a pulmonary in-\\nfarct is typically a triangular, dome-, or wedge-shaped opac-\\nity*, with the base abutting the pleura* and the apex directed \\ntoward the hilum*. The opacity reflects local edema, hemor-'),\n",
       "  Document(metadata={'page': 1, 'source': 'pdf/2024_Fleischner Society_Glossary of Terms for Thoracic Imaging.pdf'}, page_content='• Focal: confined to one distinct area (Fig 13).\\n• Geographic: distributed in a manner resembling the out-\\nline of regions on a map. The term implies well-defined \\nmargins between areas of differing attenuation (Fig 14).')],\n",
       " 'answer': '### Architectural Distortion\\n\\n- **Definition**: Architectural distortion refers to the abnormal appearance of lung tissue, where the normal pulmonary architecture is disrupted.\\n- **Associated Features**: It often occurs with other signs of pulmonary fibrosis.\\n- **Imaging Findings**:\\n  - **CT Images**: It can be observed in transverse CT images as areas with traction bronchiectasis and coexisting fibrosis.\\n  - **Indications**: Presence of traction bronchiectasis (solid arrows in images) and fibrosis (open arrows in images).\\n'}"
      ]
     },
     "execution_count": 49,
     "metadata": {},
     "output_type": "execute_result"
    }
   ],
   "source": [
    "rag_chain = create_retrieval_chain(retriever, question_answer_chain)\n",
    "results = rag_chain.invoke({\"input\": \"What is Architectural distortion?\"})\n",
    "results"
   ]
  },
  {
   "cell_type": "code",
   "execution_count": 51,
   "metadata": {},
   "outputs": [
    {
     "name": "stdout",
     "output_type": "stream",
     "text": [
      "### Architectural Distortion\n",
      "\n",
      "- **Definition**: Architectural distortion refers to the abnormal appearance of lung tissue, where the normal pulmonary architecture is disrupted.\n",
      "- **Associated Features**: It often occurs with other signs of pulmonary fibrosis.\n",
      "- **Imaging Findings**:\n",
      "  - **CT Images**: It can be observed in transverse CT images as areas with traction bronchiectasis and coexisting fibrosis.\n",
      "  - **Indications**: Presence of traction bronchiectasis (solid arrows in images) and fibrosis (open arrows in images).\n",
      "\n"
     ]
    }
   ],
   "source": [
    "print(results[\"answer\"])"
   ]
  }
 ],
 "metadata": {
  "kernelspec": {
   "display_name": "Python 3",
   "language": "python",
   "name": "python3"
  },
  "language_info": {
   "codemirror_mode": {
    "name": "ipython",
    "version": 3
   },
   "file_extension": ".py",
   "mimetype": "text/x-python",
   "name": "python",
   "nbconvert_exporter": "python",
   "pygments_lexer": "ipython3",
   "version": "3.10.10"
  }
 },
 "nbformat": 4,
 "nbformat_minor": 2
}
